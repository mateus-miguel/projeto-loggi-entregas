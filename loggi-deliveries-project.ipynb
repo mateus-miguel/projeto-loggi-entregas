{
 "cells": [
  {
   "cell_type": "markdown",
   "id": "8385dddf",
   "metadata": {
    "papermill": {
     "duration": 0.010596,
     "end_time": "2023-10-27T18:03:52.797612",
     "exception": false,
     "start_time": "2023-10-27T18:03:52.787016",
     "status": "completed"
    },
    "tags": []
   },
   "source": [
    "# Loggi Deliveries Project\n",
    "## Data\n",
    "\n",
    "This project aims to analyse the data from the repository [Loggi Benchmark for Urban Deliveries (BUD)](https://github.com/loggi/loggibud). In it, there is data in the JSON format describing the names and location of transportation centers of the company, including the geografical data (latitude and longitude), and all the deliveries associated. The data consists of:\n",
    "\n",
    "* `name`: the name of the delivery instance;\n",
    "* `region`: the name of the hub;\n",
    "* `origin`: the location of the hub with `lat` and `lng`;\n",
    "* `vehicle_capacity`: the item capacity of the delivery vehicles;\n",
    "* `deliveries`: list of deliveries, containing dictionaries with the data `id`, `point` (with `lat` and `lng` of delivery) and `size`. "
   ]
  },
  {
   "cell_type": "markdown",
   "id": "49b285a7",
   "metadata": {
    "papermill": {
     "duration": 0.012689,
     "end_time": "2023-10-27T18:03:52.822193",
     "exception": false,
     "start_time": "2023-10-27T18:03:52.809504",
     "status": "completed"
    },
    "tags": []
   },
   "source": [
    "# 1. Extract, transform and load\n",
    "\n",
    "Firstly, we extract the desired JSON file to be transformed. The libraries used are Numpy, Pandas and Seaborn. "
   ]
  },
  {
   "cell_type": "code",
   "execution_count": 1,
   "id": "5926abf8",
   "metadata": {
    "execution": {
     "iopub.execute_input": "2023-10-27T18:03:52.843202Z",
     "iopub.status.busy": "2023-10-27T18:03:52.842773Z",
     "iopub.status.idle": "2023-10-27T18:03:56.066725Z",
     "shell.execute_reply": "2023-10-27T18:03:56.065391Z"
    },
    "papermill": {
     "duration": 3.237323,
     "end_time": "2023-10-27T18:03:56.069236",
     "exception": false,
     "start_time": "2023-10-27T18:03:52.831913",
     "status": "completed"
    },
    "tags": []
   },
   "outputs": [],
   "source": [
    "!wget -q \"https://raw.githubusercontent.com/andre-marcos-perez/ebac-course-utils/main/dataset/deliveries.json\" -O deliveries.json"
   ]
  },
  {
   "cell_type": "code",
   "execution_count": 2,
   "id": "fc883999",
   "metadata": {
    "execution": {
     "iopub.execute_input": "2023-10-27T18:03:56.091637Z",
     "iopub.status.busy": "2023-10-27T18:03:56.090876Z",
     "iopub.status.idle": "2023-10-27T18:03:58.174359Z",
     "shell.execute_reply": "2023-10-27T18:03:58.172752Z"
    },
    "papermill": {
     "duration": 2.098136,
     "end_time": "2023-10-27T18:03:58.177395",
     "exception": false,
     "start_time": "2023-10-27T18:03:56.079259",
     "status": "completed"
    },
    "tags": []
   },
   "outputs": [],
   "source": [
    "import numpy as np\n",
    "import pandas as pd\n",
    "import seaborn as sns"
   ]
  },
  {
   "cell_type": "code",
   "execution_count": 3,
   "id": "b045b51f",
   "metadata": {
    "execution": {
     "iopub.execute_input": "2023-10-27T18:03:58.201590Z",
     "iopub.status.busy": "2023-10-27T18:03:58.201085Z",
     "iopub.status.idle": "2023-10-27T18:04:01.007797Z",
     "shell.execute_reply": "2023-10-27T18:04:01.006764Z"
    },
    "papermill": {
     "duration": 2.822121,
     "end_time": "2023-10-27T18:04:01.009866",
     "exception": false,
     "start_time": "2023-10-27T18:03:58.187745",
     "status": "completed"
    },
    "tags": []
   },
   "outputs": [
    {
     "data": {
      "text/plain": [
       "(199, dict)"
      ]
     },
     "execution_count": 3,
     "metadata": {},
     "output_type": "execute_result"
    }
   ],
   "source": [
    "import json\n",
    "\n",
    "with open('../input/deliveries-data/deliveries.json', mode='r', encoding='utf8') as file:\n",
    "  data = json.load(file)\n",
    "\n",
    "len(data), type(data[0])"
   ]
  },
  {
   "cell_type": "markdown",
   "id": "54265f7f",
   "metadata": {
    "papermill": {
     "duration": 0.010596,
     "end_time": "2023-10-27T18:04:01.030437",
     "exception": false,
     "start_time": "2023-10-27T18:04:01.019841",
     "status": "completed"
    },
    "tags": []
   },
   "source": [
    "We then have a list containing dictionaries of the delivery regions and their respective deliveries to various locations of the city of Brasilia (DF). We can use the first element as an example."
   ]
  },
  {
   "cell_type": "code",
   "execution_count": 4,
   "id": "69d14a1d",
   "metadata": {
    "execution": {
     "iopub.execute_input": "2023-10-27T18:04:01.053978Z",
     "iopub.status.busy": "2023-10-27T18:04:01.053561Z",
     "iopub.status.idle": "2023-10-27T18:04:01.062782Z",
     "shell.execute_reply": "2023-10-27T18:04:01.060636Z"
    },
    "papermill": {
     "duration": 0.024606,
     "end_time": "2023-10-27T18:04:01.065547",
     "exception": false,
     "start_time": "2023-10-27T18:04:01.040941",
     "status": "completed"
    },
    "tags": []
   },
   "outputs": [
    {
     "data": {
      "text/plain": [
       "dict_keys(['name', 'region', 'origin', 'vehicle_capacity', 'deliveries'])"
      ]
     },
     "execution_count": 4,
     "metadata": {},
     "output_type": "execute_result"
    }
   ],
   "source": [
    "example = data[0]\n",
    "example.keys()"
   ]
  },
  {
   "cell_type": "markdown",
   "id": "fb19c63b",
   "metadata": {
    "papermill": {
     "duration": 0.012087,
     "end_time": "2023-10-27T18:04:01.089475",
     "exception": false,
     "start_time": "2023-10-27T18:04:01.077388",
     "status": "completed"
    },
    "tags": []
   },
   "source": [
    "It is possible to visualize our JSON document using the `json` Python package, as follows."
   ]
  },
  {
   "cell_type": "code",
   "execution_count": 5,
   "id": "8003c5f5",
   "metadata": {
    "execution": {
     "iopub.execute_input": "2023-10-27T18:04:01.117497Z",
     "iopub.status.busy": "2023-10-27T18:04:01.116933Z",
     "iopub.status.idle": "2023-10-27T18:04:01.194179Z",
     "shell.execute_reply": "2023-10-27T18:04:01.191986Z"
    },
    "papermill": {
     "duration": 0.093833,
     "end_time": "2023-10-27T18:04:01.196855",
     "exception": false,
     "start_time": "2023-10-27T18:04:01.103022",
     "status": "completed"
    },
    "tags": []
   },
   "outputs": [
    {
     "name": "stdout",
     "output_type": "stream",
     "text": [
      "{\n",
      "  \"name\": \"cvrp-2-df-33\",\n",
      "  \"region\": \"df-2\",\n",
      "  \"origin\": {\n",
      "    \"lng\": -48.05498915846707,\n",
      "    \"lat\": -15.83814451122274\n",
      "  },\n",
      "  \"vehicle_capacity\": 180,\n",
      "  \"deliveries\": [\n",
      "    {\n",
      "      \"id\": \"313483a19d2f8d65cd5024c8d215cfbd\",\n",
      "      \"point\": {\n",
      "        \"lng\": -48.11618888384239,\n",
      "        \"lat\": -15.848929154862294\n",
      "      },\n",
      "      \"size\": 9\n",
      "    },\n",
      "    {\n",
      "      \"id\": \"320c94b17aa685c939b3f3244c3099de\",\n",
      "      \"point\": {\n",
      "        \"lng\": -48.11819489551,\n",
      "        \"lat\": -15.850772371049631\n",
      "      },\n",
      "      \"\n"
     ]
    }
   ],
   "source": [
    "json_formatted_str = json.dumps(example, indent=2)\n",
    "print(json_formatted_str[0:500])"
   ]
  },
  {
   "cell_type": "markdown",
   "id": "e49ab2b1",
   "metadata": {
    "papermill": {
     "duration": 0.010711,
     "end_time": "2023-10-27T18:04:01.220169",
     "exception": false,
     "start_time": "2023-10-27T18:04:01.209458",
     "status": "completed"
    },
    "tags": []
   },
   "source": [
    "## 1.1 - Data Wrangling\n",
    "\n",
    "We need to put this semi-structured data (JSON format) into a structured table (CSV format) to be able to better manipulate it. For that, we use Pandas to create a DataFrame."
   ]
  },
  {
   "cell_type": "code",
   "execution_count": 6,
   "id": "0091ce97",
   "metadata": {
    "execution": {
     "iopub.execute_input": "2023-10-27T18:04:01.246370Z",
     "iopub.status.busy": "2023-10-27T18:04:01.245973Z",
     "iopub.status.idle": "2023-10-27T18:04:01.534456Z",
     "shell.execute_reply": "2023-10-27T18:04:01.533285Z"
    },
    "papermill": {
     "duration": 0.305601,
     "end_time": "2023-10-27T18:04:01.537206",
     "exception": false,
     "start_time": "2023-10-27T18:04:01.231605",
     "status": "completed"
    },
    "tags": []
   },
   "outputs": [
    {
     "data": {
      "text/html": [
       "<div>\n",
       "<style scoped>\n",
       "    .dataframe tbody tr th:only-of-type {\n",
       "        vertical-align: middle;\n",
       "    }\n",
       "\n",
       "    .dataframe tbody tr th {\n",
       "        vertical-align: top;\n",
       "    }\n",
       "\n",
       "    .dataframe thead th {\n",
       "        text-align: right;\n",
       "    }\n",
       "</style>\n",
       "<table border=\"1\" class=\"dataframe\">\n",
       "  <thead>\n",
       "    <tr style=\"text-align: right;\">\n",
       "      <th></th>\n",
       "      <th>name</th>\n",
       "      <th>region</th>\n",
       "      <th>origin</th>\n",
       "      <th>vehicle_capacity</th>\n",
       "      <th>deliveries</th>\n",
       "    </tr>\n",
       "  </thead>\n",
       "  <tbody>\n",
       "    <tr>\n",
       "      <th>0</th>\n",
       "      <td>cvrp-2-df-33</td>\n",
       "      <td>df-2</td>\n",
       "      <td>{'lng': -48.05498915846707, 'lat': -15.8381445...</td>\n",
       "      <td>180</td>\n",
       "      <td>[{'id': '313483a19d2f8d65cd5024c8d215cfbd', 'p...</td>\n",
       "    </tr>\n",
       "    <tr>\n",
       "      <th>1</th>\n",
       "      <td>cvrp-2-df-73</td>\n",
       "      <td>df-2</td>\n",
       "      <td>{'lng': -48.05498915846707, 'lat': -15.8381445...</td>\n",
       "      <td>180</td>\n",
       "      <td>[{'id': 'bf3fc630b1c29601a4caf1bdd474b85', 'po...</td>\n",
       "    </tr>\n",
       "    <tr>\n",
       "      <th>2</th>\n",
       "      <td>cvrp-2-df-20</td>\n",
       "      <td>df-2</td>\n",
       "      <td>{'lng': -48.05498915846707, 'lat': -15.8381445...</td>\n",
       "      <td>180</td>\n",
       "      <td>[{'id': 'b30f1145a2ba4e0b9ac0162b68d045c3', 'p...</td>\n",
       "    </tr>\n",
       "    <tr>\n",
       "      <th>3</th>\n",
       "      <td>cvrp-1-df-71</td>\n",
       "      <td>df-1</td>\n",
       "      <td>{'lng': -47.89366206897872, 'lat': -15.8051175...</td>\n",
       "      <td>180</td>\n",
       "      <td>[{'id': 'be3ed547394196c12c7c27c89ac74ed6', 'p...</td>\n",
       "    </tr>\n",
       "    <tr>\n",
       "      <th>4</th>\n",
       "      <td>cvrp-2-df-87</td>\n",
       "      <td>df-2</td>\n",
       "      <td>{'lng': -48.05498915846707, 'lat': -15.8381445...</td>\n",
       "      <td>180</td>\n",
       "      <td>[{'id': 'a6328fb4dc0654eb28a996a270b0f6e4', 'p...</td>\n",
       "    </tr>\n",
       "  </tbody>\n",
       "</table>\n",
       "</div>"
      ],
      "text/plain": [
       "           name region                                             origin  \\\n",
       "0  cvrp-2-df-33   df-2  {'lng': -48.05498915846707, 'lat': -15.8381445...   \n",
       "1  cvrp-2-df-73   df-2  {'lng': -48.05498915846707, 'lat': -15.8381445...   \n",
       "2  cvrp-2-df-20   df-2  {'lng': -48.05498915846707, 'lat': -15.8381445...   \n",
       "3  cvrp-1-df-71   df-1  {'lng': -47.89366206897872, 'lat': -15.8051175...   \n",
       "4  cvrp-2-df-87   df-2  {'lng': -48.05498915846707, 'lat': -15.8381445...   \n",
       "\n",
       "   vehicle_capacity                                         deliveries  \n",
       "0               180  [{'id': '313483a19d2f8d65cd5024c8d215cfbd', 'p...  \n",
       "1               180  [{'id': 'bf3fc630b1c29601a4caf1bdd474b85', 'po...  \n",
       "2               180  [{'id': 'b30f1145a2ba4e0b9ac0162b68d045c3', 'p...  \n",
       "3               180  [{'id': 'be3ed547394196c12c7c27c89ac74ed6', 'p...  \n",
       "4               180  [{'id': 'a6328fb4dc0654eb28a996a270b0f6e4', 'p...  "
      ]
     },
     "execution_count": 6,
     "metadata": {},
     "output_type": "execute_result"
    }
   ],
   "source": [
    "deliveries_df = pd.DataFrame(data)\n",
    "deliveries_df.head()"
   ]
  },
  {
   "cell_type": "markdown",
   "id": "9610e22e",
   "metadata": {
    "papermill": {
     "duration": 0.010662,
     "end_time": "2023-10-27T18:04:01.559025",
     "exception": false,
     "start_time": "2023-10-27T18:04:01.548363",
     "status": "completed"
    },
    "tags": []
   },
   "source": [
    "As can be seen, the 'origin' column contains two informations 'lat' and 'lng' that we wish to separate into two individual columns. This procedure is called normalization or flattening, and can be done by the `pd.json_normalize()` method."
   ]
  },
  {
   "cell_type": "code",
   "execution_count": 7,
   "id": "e854c5a0",
   "metadata": {
    "execution": {
     "iopub.execute_input": "2023-10-27T18:04:01.651987Z",
     "iopub.status.busy": "2023-10-27T18:04:01.650645Z",
     "iopub.status.idle": "2023-10-27T18:04:01.663958Z",
     "shell.execute_reply": "2023-10-27T18:04:01.663173Z"
    },
    "papermill": {
     "duration": 0.027879,
     "end_time": "2023-10-27T18:04:01.665846",
     "exception": false,
     "start_time": "2023-10-27T18:04:01.637967",
     "status": "completed"
    },
    "tags": []
   },
   "outputs": [
    {
     "data": {
      "text/html": [
       "<div>\n",
       "<style scoped>\n",
       "    .dataframe tbody tr th:only-of-type {\n",
       "        vertical-align: middle;\n",
       "    }\n",
       "\n",
       "    .dataframe tbody tr th {\n",
       "        vertical-align: top;\n",
       "    }\n",
       "\n",
       "    .dataframe thead th {\n",
       "        text-align: right;\n",
       "    }\n",
       "</style>\n",
       "<table border=\"1\" class=\"dataframe\">\n",
       "  <thead>\n",
       "    <tr style=\"text-align: right;\">\n",
       "      <th></th>\n",
       "      <th>lng</th>\n",
       "      <th>lat</th>\n",
       "    </tr>\n",
       "  </thead>\n",
       "  <tbody>\n",
       "    <tr>\n",
       "      <th>0</th>\n",
       "      <td>-48.054989</td>\n",
       "      <td>-15.838145</td>\n",
       "    </tr>\n",
       "    <tr>\n",
       "      <th>1</th>\n",
       "      <td>-48.054989</td>\n",
       "      <td>-15.838145</td>\n",
       "    </tr>\n",
       "    <tr>\n",
       "      <th>2</th>\n",
       "      <td>-48.054989</td>\n",
       "      <td>-15.838145</td>\n",
       "    </tr>\n",
       "    <tr>\n",
       "      <th>3</th>\n",
       "      <td>-47.893662</td>\n",
       "      <td>-15.805118</td>\n",
       "    </tr>\n",
       "    <tr>\n",
       "      <th>4</th>\n",
       "      <td>-48.054989</td>\n",
       "      <td>-15.838145</td>\n",
       "    </tr>\n",
       "  </tbody>\n",
       "</table>\n",
       "</div>"
      ],
      "text/plain": [
       "         lng        lat\n",
       "0 -48.054989 -15.838145\n",
       "1 -48.054989 -15.838145\n",
       "2 -48.054989 -15.838145\n",
       "3 -47.893662 -15.805118\n",
       "4 -48.054989 -15.838145"
      ]
     },
     "execution_count": 7,
     "metadata": {},
     "output_type": "execute_result"
    }
   ],
   "source": [
    "hub_origin_df = pd.json_normalize(deliveries_df['origin'])\n",
    "hub_origin_df.head()"
   ]
  },
  {
   "cell_type": "markdown",
   "id": "f834c5d7",
   "metadata": {
    "papermill": {
     "duration": 0.010783,
     "end_time": "2023-10-27T18:04:01.687430",
     "exception": false,
     "start_time": "2023-10-27T18:04:01.676647",
     "status": "completed"
    },
    "tags": []
   },
   "source": [
    "We can confirm that there are only three unique values of 'lat' and 'lng' corresponding to the three hub regions."
   ]
  },
  {
   "cell_type": "code",
   "execution_count": 8,
   "id": "958f6483",
   "metadata": {
    "execution": {
     "iopub.execute_input": "2023-10-27T18:04:01.714011Z",
     "iopub.status.busy": "2023-10-27T18:04:01.713474Z",
     "iopub.status.idle": "2023-10-27T18:04:01.728389Z",
     "shell.execute_reply": "2023-10-27T18:04:01.727117Z"
    },
    "papermill": {
     "duration": 0.030003,
     "end_time": "2023-10-27T18:04:01.730400",
     "exception": false,
     "start_time": "2023-10-27T18:04:01.700397",
     "status": "completed"
    },
    "tags": []
   },
   "outputs": [
    {
     "data": {
      "text/plain": [
       "array(['df-2', 'df-1', 'df-0'], dtype=object)"
      ]
     },
     "execution_count": 8,
     "metadata": {},
     "output_type": "execute_result"
    }
   ],
   "source": [
    "deliveries_df['region'].unique()"
   ]
  },
  {
   "cell_type": "code",
   "execution_count": 9,
   "id": "19018e9e",
   "metadata": {
    "execution": {
     "iopub.execute_input": "2023-10-27T18:04:01.754577Z",
     "iopub.status.busy": "2023-10-27T18:04:01.753852Z",
     "iopub.status.idle": "2023-10-27T18:04:01.762130Z",
     "shell.execute_reply": "2023-10-27T18:04:01.761259Z"
    },
    "papermill": {
     "duration": 0.023559,
     "end_time": "2023-10-27T18:04:01.764815",
     "exception": false,
     "start_time": "2023-10-27T18:04:01.741256",
     "status": "completed"
    },
    "tags": []
   },
   "outputs": [
    {
     "data": {
      "text/plain": [
       "array([-15.83814451, -15.80511751, -15.65701385])"
      ]
     },
     "execution_count": 9,
     "metadata": {},
     "output_type": "execute_result"
    }
   ],
   "source": [
    "hub_origin_df['lat'].unique()"
   ]
  },
  {
   "cell_type": "code",
   "execution_count": 10,
   "id": "19a0dc02",
   "metadata": {
    "execution": {
     "iopub.execute_input": "2023-10-27T18:04:01.791556Z",
     "iopub.status.busy": "2023-10-27T18:04:01.790940Z",
     "iopub.status.idle": "2023-10-27T18:04:02.052482Z",
     "shell.execute_reply": "2023-10-27T18:04:02.050325Z"
    },
    "papermill": {
     "duration": 0.27796,
     "end_time": "2023-10-27T18:04:02.055964",
     "exception": false,
     "start_time": "2023-10-27T18:04:01.778004",
     "status": "completed"
    },
    "tags": []
   },
   "outputs": [
    {
     "data": {
      "text/html": [
       "<div>\n",
       "<style scoped>\n",
       "    .dataframe tbody tr th:only-of-type {\n",
       "        vertical-align: middle;\n",
       "    }\n",
       "\n",
       "    .dataframe tbody tr th {\n",
       "        vertical-align: top;\n",
       "    }\n",
       "\n",
       "    .dataframe thead th {\n",
       "        text-align: right;\n",
       "    }\n",
       "</style>\n",
       "<table border=\"1\" class=\"dataframe\">\n",
       "  <thead>\n",
       "    <tr style=\"text-align: right;\">\n",
       "      <th></th>\n",
       "      <th>name</th>\n",
       "      <th>region</th>\n",
       "      <th>origin</th>\n",
       "      <th>vehicle_capacity</th>\n",
       "      <th>deliveries</th>\n",
       "      <th>lng</th>\n",
       "      <th>lat</th>\n",
       "    </tr>\n",
       "  </thead>\n",
       "  <tbody>\n",
       "    <tr>\n",
       "      <th>0</th>\n",
       "      <td>cvrp-2-df-33</td>\n",
       "      <td>df-2</td>\n",
       "      <td>{'lng': -48.05498915846707, 'lat': -15.8381445...</td>\n",
       "      <td>180</td>\n",
       "      <td>[{'id': '313483a19d2f8d65cd5024c8d215cfbd', 'p...</td>\n",
       "      <td>-48.054989</td>\n",
       "      <td>-15.838145</td>\n",
       "    </tr>\n",
       "    <tr>\n",
       "      <th>1</th>\n",
       "      <td>cvrp-2-df-73</td>\n",
       "      <td>df-2</td>\n",
       "      <td>{'lng': -48.05498915846707, 'lat': -15.8381445...</td>\n",
       "      <td>180</td>\n",
       "      <td>[{'id': 'bf3fc630b1c29601a4caf1bdd474b85', 'po...</td>\n",
       "      <td>-48.054989</td>\n",
       "      <td>-15.838145</td>\n",
       "    </tr>\n",
       "    <tr>\n",
       "      <th>2</th>\n",
       "      <td>cvrp-2-df-20</td>\n",
       "      <td>df-2</td>\n",
       "      <td>{'lng': -48.05498915846707, 'lat': -15.8381445...</td>\n",
       "      <td>180</td>\n",
       "      <td>[{'id': 'b30f1145a2ba4e0b9ac0162b68d045c3', 'p...</td>\n",
       "      <td>-48.054989</td>\n",
       "      <td>-15.838145</td>\n",
       "    </tr>\n",
       "    <tr>\n",
       "      <th>3</th>\n",
       "      <td>cvrp-1-df-71</td>\n",
       "      <td>df-1</td>\n",
       "      <td>{'lng': -47.89366206897872, 'lat': -15.8051175...</td>\n",
       "      <td>180</td>\n",
       "      <td>[{'id': 'be3ed547394196c12c7c27c89ac74ed6', 'p...</td>\n",
       "      <td>-47.893662</td>\n",
       "      <td>-15.805118</td>\n",
       "    </tr>\n",
       "    <tr>\n",
       "      <th>4</th>\n",
       "      <td>cvrp-2-df-87</td>\n",
       "      <td>df-2</td>\n",
       "      <td>{'lng': -48.05498915846707, 'lat': -15.8381445...</td>\n",
       "      <td>180</td>\n",
       "      <td>[{'id': 'a6328fb4dc0654eb28a996a270b0f6e4', 'p...</td>\n",
       "      <td>-48.054989</td>\n",
       "      <td>-15.838145</td>\n",
       "    </tr>\n",
       "  </tbody>\n",
       "</table>\n",
       "</div>"
      ],
      "text/plain": [
       "           name region                                             origin  \\\n",
       "0  cvrp-2-df-33   df-2  {'lng': -48.05498915846707, 'lat': -15.8381445...   \n",
       "1  cvrp-2-df-73   df-2  {'lng': -48.05498915846707, 'lat': -15.8381445...   \n",
       "2  cvrp-2-df-20   df-2  {'lng': -48.05498915846707, 'lat': -15.8381445...   \n",
       "3  cvrp-1-df-71   df-1  {'lng': -47.89366206897872, 'lat': -15.8051175...   \n",
       "4  cvrp-2-df-87   df-2  {'lng': -48.05498915846707, 'lat': -15.8381445...   \n",
       "\n",
       "   vehicle_capacity                                         deliveries  \\\n",
       "0               180  [{'id': '313483a19d2f8d65cd5024c8d215cfbd', 'p...   \n",
       "1               180  [{'id': 'bf3fc630b1c29601a4caf1bdd474b85', 'po...   \n",
       "2               180  [{'id': 'b30f1145a2ba4e0b9ac0162b68d045c3', 'p...   \n",
       "3               180  [{'id': 'be3ed547394196c12c7c27c89ac74ed6', 'p...   \n",
       "4               180  [{'id': 'a6328fb4dc0654eb28a996a270b0f6e4', 'p...   \n",
       "\n",
       "         lng        lat  \n",
       "0 -48.054989 -15.838145  \n",
       "1 -48.054989 -15.838145  \n",
       "2 -48.054989 -15.838145  \n",
       "3 -47.893662 -15.805118  \n",
       "4 -48.054989 -15.838145  "
      ]
     },
     "execution_count": 10,
     "metadata": {},
     "output_type": "execute_result"
    }
   ],
   "source": [
    "deliveries_df = pd.merge(left=deliveries_df, right=hub_origin_df, how='inner', left_index=True, right_index=True)\n",
    "deliveries_df.head()"
   ]
  },
  {
   "cell_type": "markdown",
   "id": "eb57848a",
   "metadata": {
    "papermill": {
     "duration": 0.010966,
     "end_time": "2023-10-27T18:04:02.079226",
     "exception": false,
     "start_time": "2023-10-27T18:04:02.068260",
     "status": "completed"
    },
    "tags": []
   },
   "source": [
    "Now, the 'origin' column can be eliminated, as it's contents have been extracted. We then reorder the columns."
   ]
  },
  {
   "cell_type": "code",
   "execution_count": 11,
   "id": "2446d40d",
   "metadata": {
    "execution": {
     "iopub.execute_input": "2023-10-27T18:04:02.104179Z",
     "iopub.status.busy": "2023-10-27T18:04:02.103820Z",
     "iopub.status.idle": "2023-10-27T18:04:02.370909Z",
     "shell.execute_reply": "2023-10-27T18:04:02.369929Z"
    },
    "papermill": {
     "duration": 0.282409,
     "end_time": "2023-10-27T18:04:02.373034",
     "exception": false,
     "start_time": "2023-10-27T18:04:02.090625",
     "status": "completed"
    },
    "tags": []
   },
   "outputs": [
    {
     "data": {
      "text/html": [
       "<div>\n",
       "<style scoped>\n",
       "    .dataframe tbody tr th:only-of-type {\n",
       "        vertical-align: middle;\n",
       "    }\n",
       "\n",
       "    .dataframe tbody tr th {\n",
       "        vertical-align: top;\n",
       "    }\n",
       "\n",
       "    .dataframe thead th {\n",
       "        text-align: right;\n",
       "    }\n",
       "</style>\n",
       "<table border=\"1\" class=\"dataframe\">\n",
       "  <thead>\n",
       "    <tr style=\"text-align: right;\">\n",
       "      <th></th>\n",
       "      <th>name</th>\n",
       "      <th>region</th>\n",
       "      <th>hub_lat</th>\n",
       "      <th>hub_lng</th>\n",
       "      <th>vehicle_capacity</th>\n",
       "      <th>deliveries</th>\n",
       "    </tr>\n",
       "  </thead>\n",
       "  <tbody>\n",
       "    <tr>\n",
       "      <th>0</th>\n",
       "      <td>cvrp-2-df-33</td>\n",
       "      <td>df-2</td>\n",
       "      <td>-15.838145</td>\n",
       "      <td>-48.054989</td>\n",
       "      <td>180</td>\n",
       "      <td>[{'id': '313483a19d2f8d65cd5024c8d215cfbd', 'p...</td>\n",
       "    </tr>\n",
       "    <tr>\n",
       "      <th>1</th>\n",
       "      <td>cvrp-2-df-73</td>\n",
       "      <td>df-2</td>\n",
       "      <td>-15.838145</td>\n",
       "      <td>-48.054989</td>\n",
       "      <td>180</td>\n",
       "      <td>[{'id': 'bf3fc630b1c29601a4caf1bdd474b85', 'po...</td>\n",
       "    </tr>\n",
       "    <tr>\n",
       "      <th>2</th>\n",
       "      <td>cvrp-2-df-20</td>\n",
       "      <td>df-2</td>\n",
       "      <td>-15.838145</td>\n",
       "      <td>-48.054989</td>\n",
       "      <td>180</td>\n",
       "      <td>[{'id': 'b30f1145a2ba4e0b9ac0162b68d045c3', 'p...</td>\n",
       "    </tr>\n",
       "    <tr>\n",
       "      <th>3</th>\n",
       "      <td>cvrp-1-df-71</td>\n",
       "      <td>df-1</td>\n",
       "      <td>-15.805118</td>\n",
       "      <td>-47.893662</td>\n",
       "      <td>180</td>\n",
       "      <td>[{'id': 'be3ed547394196c12c7c27c89ac74ed6', 'p...</td>\n",
       "    </tr>\n",
       "    <tr>\n",
       "      <th>4</th>\n",
       "      <td>cvrp-2-df-87</td>\n",
       "      <td>df-2</td>\n",
       "      <td>-15.838145</td>\n",
       "      <td>-48.054989</td>\n",
       "      <td>180</td>\n",
       "      <td>[{'id': 'a6328fb4dc0654eb28a996a270b0f6e4', 'p...</td>\n",
       "    </tr>\n",
       "  </tbody>\n",
       "</table>\n",
       "</div>"
      ],
      "text/plain": [
       "           name region    hub_lat    hub_lng  vehicle_capacity  \\\n",
       "0  cvrp-2-df-33   df-2 -15.838145 -48.054989               180   \n",
       "1  cvrp-2-df-73   df-2 -15.838145 -48.054989               180   \n",
       "2  cvrp-2-df-20   df-2 -15.838145 -48.054989               180   \n",
       "3  cvrp-1-df-71   df-1 -15.805118 -47.893662               180   \n",
       "4  cvrp-2-df-87   df-2 -15.838145 -48.054989               180   \n",
       "\n",
       "                                          deliveries  \n",
       "0  [{'id': '313483a19d2f8d65cd5024c8d215cfbd', 'p...  \n",
       "1  [{'id': 'bf3fc630b1c29601a4caf1bdd474b85', 'po...  \n",
       "2  [{'id': 'b30f1145a2ba4e0b9ac0162b68d045c3', 'p...  \n",
       "3  [{'id': 'be3ed547394196c12c7c27c89ac74ed6', 'p...  \n",
       "4  [{'id': 'a6328fb4dc0654eb28a996a270b0f6e4', 'p...  "
      ]
     },
     "execution_count": 11,
     "metadata": {},
     "output_type": "execute_result"
    }
   ],
   "source": [
    "deliveries_df = deliveries_df.drop(['origin'], axis=1)\n",
    "deliveries_df = deliveries_df[['name', 'region', 'lat', 'lng', 'vehicle_capacity', 'deliveries']]\n",
    "deliveries_df = deliveries_df.rename(columns={\n",
    "    'lat': 'hub_lat',\n",
    "    'lng': 'hub_lng'\n",
    "})\n",
    "deliveries_df.head()"
   ]
  },
  {
   "cell_type": "markdown",
   "id": "42b64636",
   "metadata": {
    "papermill": {
     "duration": 0.011209,
     "end_time": "2023-10-27T18:04:02.395476",
     "exception": false,
     "start_time": "2023-10-27T18:04:02.384267",
     "status": "completed"
    },
    "tags": []
   },
   "source": [
    "Another similar problem occurs with the 'deliveries' column, that has some depth to it. We need to expand the elements of the lists in each row into many rows, then extract the values from the keys of the dictionaries. This process is a **normalization explosion** (expanding the lists into many more rows than before)."
   ]
  },
  {
   "cell_type": "code",
   "execution_count": 12,
   "id": "42f1f37f",
   "metadata": {
    "execution": {
     "iopub.execute_input": "2023-10-27T18:04:02.422372Z",
     "iopub.status.busy": "2023-10-27T18:04:02.421273Z",
     "iopub.status.idle": "2023-10-27T18:04:02.520316Z",
     "shell.execute_reply": "2023-10-27T18:04:02.518341Z"
    },
    "papermill": {
     "duration": 0.115409,
     "end_time": "2023-10-27T18:04:02.523049",
     "exception": false,
     "start_time": "2023-10-27T18:04:02.407640",
     "status": "completed"
    },
    "tags": []
   },
   "outputs": [
    {
     "data": {
      "text/html": [
       "<div>\n",
       "<style scoped>\n",
       "    .dataframe tbody tr th:only-of-type {\n",
       "        vertical-align: middle;\n",
       "    }\n",
       "\n",
       "    .dataframe tbody tr th {\n",
       "        vertical-align: top;\n",
       "    }\n",
       "\n",
       "    .dataframe thead th {\n",
       "        text-align: right;\n",
       "    }\n",
       "</style>\n",
       "<table border=\"1\" class=\"dataframe\">\n",
       "  <thead>\n",
       "    <tr style=\"text-align: right;\">\n",
       "      <th></th>\n",
       "      <th>deliveries</th>\n",
       "    </tr>\n",
       "  </thead>\n",
       "  <tbody>\n",
       "    <tr>\n",
       "      <th>0</th>\n",
       "      <td>{'id': '313483a19d2f8d65cd5024c8d215cfbd', 'po...</td>\n",
       "    </tr>\n",
       "    <tr>\n",
       "      <th>0</th>\n",
       "      <td>{'id': '320c94b17aa685c939b3f3244c3099de', 'po...</td>\n",
       "    </tr>\n",
       "    <tr>\n",
       "      <th>0</th>\n",
       "      <td>{'id': '3663b42f4b8decb33059febaba46d5c8', 'po...</td>\n",
       "    </tr>\n",
       "    <tr>\n",
       "      <th>0</th>\n",
       "      <td>{'id': 'e11ab58363c38d6abc90d5fba87b7d7', 'poi...</td>\n",
       "    </tr>\n",
       "    <tr>\n",
       "      <th>0</th>\n",
       "      <td>{'id': '54cb45b7bbbd4e34e7150900f92d7f4b', 'po...</td>\n",
       "    </tr>\n",
       "  </tbody>\n",
       "</table>\n",
       "</div>"
      ],
      "text/plain": [
       "                                          deliveries\n",
       "0  {'id': '313483a19d2f8d65cd5024c8d215cfbd', 'po...\n",
       "0  {'id': '320c94b17aa685c939b3f3244c3099de', 'po...\n",
       "0  {'id': '3663b42f4b8decb33059febaba46d5c8', 'po...\n",
       "0  {'id': 'e11ab58363c38d6abc90d5fba87b7d7', 'poi...\n",
       "0  {'id': '54cb45b7bbbd4e34e7150900f92d7f4b', 'po..."
      ]
     },
     "execution_count": 12,
     "metadata": {},
     "output_type": "execute_result"
    }
   ],
   "source": [
    "deliveries_exploded_df = deliveries_df[['deliveries']].explode('deliveries')\n",
    "deliveries_exploded_df.head()"
   ]
  },
  {
   "cell_type": "markdown",
   "id": "0ac8ccc0",
   "metadata": {
    "papermill": {
     "duration": 0.011927,
     "end_time": "2023-10-27T18:04:02.547316",
     "exception": false,
     "start_time": "2023-10-27T18:04:02.535389",
     "status": "completed"
    },
    "tags": []
   },
   "source": [
    "Now we have many more rows than the 199 rows of the original DataFrame."
   ]
  },
  {
   "cell_type": "code",
   "execution_count": 13,
   "id": "7672865a",
   "metadata": {
    "execution": {
     "iopub.execute_input": "2023-10-27T18:04:02.573765Z",
     "iopub.status.busy": "2023-10-27T18:04:02.573337Z",
     "iopub.status.idle": "2023-10-27T18:04:02.580720Z",
     "shell.execute_reply": "2023-10-27T18:04:02.579628Z"
    },
    "papermill": {
     "duration": 0.023787,
     "end_time": "2023-10-27T18:04:02.583661",
     "exception": false,
     "start_time": "2023-10-27T18:04:02.559874",
     "status": "completed"
    },
    "tags": []
   },
   "outputs": [
    {
     "data": {
      "text/plain": [
       "(636149, 1)"
      ]
     },
     "execution_count": 13,
     "metadata": {},
     "output_type": "execute_result"
    }
   ],
   "source": [
    "deliveries_exploded_df.shape"
   ]
  },
  {
   "cell_type": "markdown",
   "id": "d16dc800",
   "metadata": {
    "papermill": {
     "duration": 0.012222,
     "end_time": "2023-10-27T18:04:02.607902",
     "exception": false,
     "start_time": "2023-10-27T18:04:02.595680",
     "status": "completed"
    },
    "tags": []
   },
   "source": [
    "We then apply some functional programming to extract the desired key-value pairs and create new columns in this DataFrame."
   ]
  },
  {
   "cell_type": "code",
   "execution_count": 14,
   "id": "78ca103f",
   "metadata": {
    "execution": {
     "iopub.execute_input": "2023-10-27T18:04:02.633495Z",
     "iopub.status.busy": "2023-10-27T18:04:02.633069Z",
     "iopub.status.idle": "2023-10-27T18:04:03.390053Z",
     "shell.execute_reply": "2023-10-27T18:04:03.388265Z"
    },
    "papermill": {
     "duration": 0.773143,
     "end_time": "2023-10-27T18:04:03.392742",
     "exception": false,
     "start_time": "2023-10-27T18:04:02.619599",
     "status": "completed"
    },
    "tags": []
   },
   "outputs": [
    {
     "data": {
      "text/html": [
       "<div>\n",
       "<style scoped>\n",
       "    .dataframe tbody tr th:only-of-type {\n",
       "        vertical-align: middle;\n",
       "    }\n",
       "\n",
       "    .dataframe tbody tr th {\n",
       "        vertical-align: top;\n",
       "    }\n",
       "\n",
       "    .dataframe thead th {\n",
       "        text-align: right;\n",
       "    }\n",
       "</style>\n",
       "<table border=\"1\" class=\"dataframe\">\n",
       "  <thead>\n",
       "    <tr style=\"text-align: right;\">\n",
       "      <th></th>\n",
       "      <th>deliveries</th>\n",
       "      <th>delivery_id</th>\n",
       "      <th>delivery_point_lng</th>\n",
       "      <th>delivery_point_lat</th>\n",
       "      <th>delivery_size</th>\n",
       "    </tr>\n",
       "  </thead>\n",
       "  <tbody>\n",
       "    <tr>\n",
       "      <th>0</th>\n",
       "      <td>{'id': '313483a19d2f8d65cd5024c8d215cfbd', 'po...</td>\n",
       "      <td>313483a19d2f8d65cd5024c8d215cfbd</td>\n",
       "      <td>-48.116189</td>\n",
       "      <td>-15.848929</td>\n",
       "      <td>9</td>\n",
       "    </tr>\n",
       "    <tr>\n",
       "      <th>0</th>\n",
       "      <td>{'id': '320c94b17aa685c939b3f3244c3099de', 'po...</td>\n",
       "      <td>320c94b17aa685c939b3f3244c3099de</td>\n",
       "      <td>-48.118195</td>\n",
       "      <td>-15.850772</td>\n",
       "      <td>2</td>\n",
       "    </tr>\n",
       "    <tr>\n",
       "      <th>0</th>\n",
       "      <td>{'id': '3663b42f4b8decb33059febaba46d5c8', 'po...</td>\n",
       "      <td>3663b42f4b8decb33059febaba46d5c8</td>\n",
       "      <td>-48.112483</td>\n",
       "      <td>-15.847871</td>\n",
       "      <td>1</td>\n",
       "    </tr>\n",
       "    <tr>\n",
       "      <th>0</th>\n",
       "      <td>{'id': 'e11ab58363c38d6abc90d5fba87b7d7', 'poi...</td>\n",
       "      <td>e11ab58363c38d6abc90d5fba87b7d7</td>\n",
       "      <td>-48.118023</td>\n",
       "      <td>-15.846471</td>\n",
       "      <td>2</td>\n",
       "    </tr>\n",
       "    <tr>\n",
       "      <th>0</th>\n",
       "      <td>{'id': '54cb45b7bbbd4e34e7150900f92d7f4b', 'po...</td>\n",
       "      <td>54cb45b7bbbd4e34e7150900f92d7f4b</td>\n",
       "      <td>-48.114898</td>\n",
       "      <td>-15.858055</td>\n",
       "      <td>7</td>\n",
       "    </tr>\n",
       "  </tbody>\n",
       "</table>\n",
       "</div>"
      ],
      "text/plain": [
       "                                          deliveries  \\\n",
       "0  {'id': '313483a19d2f8d65cd5024c8d215cfbd', 'po...   \n",
       "0  {'id': '320c94b17aa685c939b3f3244c3099de', 'po...   \n",
       "0  {'id': '3663b42f4b8decb33059febaba46d5c8', 'po...   \n",
       "0  {'id': 'e11ab58363c38d6abc90d5fba87b7d7', 'poi...   \n",
       "0  {'id': '54cb45b7bbbd4e34e7150900f92d7f4b', 'po...   \n",
       "\n",
       "                        delivery_id  delivery_point_lng  delivery_point_lat  \\\n",
       "0  313483a19d2f8d65cd5024c8d215cfbd          -48.116189          -15.848929   \n",
       "0  320c94b17aa685c939b3f3244c3099de          -48.118195          -15.850772   \n",
       "0  3663b42f4b8decb33059febaba46d5c8          -48.112483          -15.847871   \n",
       "0   e11ab58363c38d6abc90d5fba87b7d7          -48.118023          -15.846471   \n",
       "0  54cb45b7bbbd4e34e7150900f92d7f4b          -48.114898          -15.858055   \n",
       "\n",
       "   delivery_size  \n",
       "0              9  \n",
       "0              2  \n",
       "0              1  \n",
       "0              2  \n",
       "0              7  "
      ]
     },
     "execution_count": 14,
     "metadata": {},
     "output_type": "execute_result"
    }
   ],
   "source": [
    "deliveries_exploded_df['delivery_id'] = deliveries_exploded_df['deliveries'].apply(lambda x: x['id'])\n",
    "deliveries_exploded_df['delivery_point_lng'] = deliveries_exploded_df['deliveries'].apply(lambda x: x['point']['lng'])\n",
    "deliveries_exploded_df['delivery_point_lat'] = deliveries_exploded_df['deliveries'].apply(lambda x: x['point']['lat'])\n",
    "deliveries_exploded_df['delivery_size'] = deliveries_exploded_df['deliveries'].apply(lambda x: x['size'])\n",
    "deliveries_exploded_df.head()"
   ]
  },
  {
   "cell_type": "markdown",
   "id": "3fdad07d",
   "metadata": {
    "papermill": {
     "duration": 0.01227,
     "end_time": "2023-10-27T18:04:03.417661",
     "exception": false,
     "start_time": "2023-10-27T18:04:03.405391",
     "status": "completed"
    },
    "tags": []
   },
   "source": [
    "Then the 'deliveries' column can be dropped because it's contents have been extracted."
   ]
  },
  {
   "cell_type": "code",
   "execution_count": 15,
   "id": "fa6c284c",
   "metadata": {
    "execution": {
     "iopub.execute_input": "2023-10-27T18:04:03.443680Z",
     "iopub.status.busy": "2023-10-27T18:04:03.443273Z",
     "iopub.status.idle": "2023-10-27T18:04:03.472524Z",
     "shell.execute_reply": "2023-10-27T18:04:03.470557Z"
    },
    "papermill": {
     "duration": 0.04614,
     "end_time": "2023-10-27T18:04:03.475923",
     "exception": false,
     "start_time": "2023-10-27T18:04:03.429783",
     "status": "completed"
    },
    "tags": []
   },
   "outputs": [
    {
     "data": {
      "text/plain": [
       "Index(['delivery_id', 'delivery_point_lng', 'delivery_point_lat',\n",
       "       'delivery_size'],\n",
       "      dtype='object')"
      ]
     },
     "execution_count": 15,
     "metadata": {},
     "output_type": "execute_result"
    }
   ],
   "source": [
    "deliveries_exploded_df = deliveries_exploded_df.drop(['deliveries'], axis=1)\n",
    "deliveries_exploded_df.columns"
   ]
  },
  {
   "cell_type": "markdown",
   "id": "d2a7bcdd",
   "metadata": {
    "papermill": {
     "duration": 0.011587,
     "end_time": "2023-10-27T18:04:03.499631",
     "exception": false,
     "start_time": "2023-10-27T18:04:03.488044",
     "status": "completed"
    },
    "tags": []
   },
   "source": [
    "Finally, we merge this new dataframe to the original one using a \"right join\". This means that every repeated index in the new dataframe receives the rest of the original data copied on many rows. The final dataframe will have 636149 rows."
   ]
  },
  {
   "cell_type": "code",
   "execution_count": 16,
   "id": "fb7c3d0d",
   "metadata": {
    "execution": {
     "iopub.execute_input": "2023-10-27T18:04:03.526984Z",
     "iopub.status.busy": "2023-10-27T18:04:03.525586Z",
     "iopub.status.idle": "2023-10-27T18:04:03.681114Z",
     "shell.execute_reply": "2023-10-27T18:04:03.679447Z"
    },
    "papermill": {
     "duration": 0.172218,
     "end_time": "2023-10-27T18:04:03.683934",
     "exception": false,
     "start_time": "2023-10-27T18:04:03.511716",
     "status": "completed"
    },
    "tags": []
   },
   "outputs": [
    {
     "data": {
      "text/html": [
       "<div>\n",
       "<style scoped>\n",
       "    .dataframe tbody tr th:only-of-type {\n",
       "        vertical-align: middle;\n",
       "    }\n",
       "\n",
       "    .dataframe tbody tr th {\n",
       "        vertical-align: top;\n",
       "    }\n",
       "\n",
       "    .dataframe thead th {\n",
       "        text-align: right;\n",
       "    }\n",
       "</style>\n",
       "<table border=\"1\" class=\"dataframe\">\n",
       "  <thead>\n",
       "    <tr style=\"text-align: right;\">\n",
       "      <th></th>\n",
       "      <th>name</th>\n",
       "      <th>region</th>\n",
       "      <th>hub_lat</th>\n",
       "      <th>hub_lng</th>\n",
       "      <th>vehicle_capacity</th>\n",
       "      <th>delivery_id</th>\n",
       "      <th>delivery_point_lng</th>\n",
       "      <th>delivery_point_lat</th>\n",
       "      <th>delivery_size</th>\n",
       "    </tr>\n",
       "  </thead>\n",
       "  <tbody>\n",
       "    <tr>\n",
       "      <th>0</th>\n",
       "      <td>cvrp-2-df-33</td>\n",
       "      <td>df-2</td>\n",
       "      <td>-15.838145</td>\n",
       "      <td>-48.054989</td>\n",
       "      <td>180</td>\n",
       "      <td>313483a19d2f8d65cd5024c8d215cfbd</td>\n",
       "      <td>-48.116189</td>\n",
       "      <td>-15.848929</td>\n",
       "      <td>9</td>\n",
       "    </tr>\n",
       "    <tr>\n",
       "      <th>0</th>\n",
       "      <td>cvrp-2-df-33</td>\n",
       "      <td>df-2</td>\n",
       "      <td>-15.838145</td>\n",
       "      <td>-48.054989</td>\n",
       "      <td>180</td>\n",
       "      <td>320c94b17aa685c939b3f3244c3099de</td>\n",
       "      <td>-48.118195</td>\n",
       "      <td>-15.850772</td>\n",
       "      <td>2</td>\n",
       "    </tr>\n",
       "    <tr>\n",
       "      <th>0</th>\n",
       "      <td>cvrp-2-df-33</td>\n",
       "      <td>df-2</td>\n",
       "      <td>-15.838145</td>\n",
       "      <td>-48.054989</td>\n",
       "      <td>180</td>\n",
       "      <td>3663b42f4b8decb33059febaba46d5c8</td>\n",
       "      <td>-48.112483</td>\n",
       "      <td>-15.847871</td>\n",
       "      <td>1</td>\n",
       "    </tr>\n",
       "    <tr>\n",
       "      <th>0</th>\n",
       "      <td>cvrp-2-df-33</td>\n",
       "      <td>df-2</td>\n",
       "      <td>-15.838145</td>\n",
       "      <td>-48.054989</td>\n",
       "      <td>180</td>\n",
       "      <td>e11ab58363c38d6abc90d5fba87b7d7</td>\n",
       "      <td>-48.118023</td>\n",
       "      <td>-15.846471</td>\n",
       "      <td>2</td>\n",
       "    </tr>\n",
       "    <tr>\n",
       "      <th>0</th>\n",
       "      <td>cvrp-2-df-33</td>\n",
       "      <td>df-2</td>\n",
       "      <td>-15.838145</td>\n",
       "      <td>-48.054989</td>\n",
       "      <td>180</td>\n",
       "      <td>54cb45b7bbbd4e34e7150900f92d7f4b</td>\n",
       "      <td>-48.114898</td>\n",
       "      <td>-15.858055</td>\n",
       "      <td>7</td>\n",
       "    </tr>\n",
       "  </tbody>\n",
       "</table>\n",
       "</div>"
      ],
      "text/plain": [
       "           name region    hub_lat    hub_lng  vehicle_capacity  \\\n",
       "0  cvrp-2-df-33   df-2 -15.838145 -48.054989               180   \n",
       "0  cvrp-2-df-33   df-2 -15.838145 -48.054989               180   \n",
       "0  cvrp-2-df-33   df-2 -15.838145 -48.054989               180   \n",
       "0  cvrp-2-df-33   df-2 -15.838145 -48.054989               180   \n",
       "0  cvrp-2-df-33   df-2 -15.838145 -48.054989               180   \n",
       "\n",
       "                        delivery_id  delivery_point_lng  delivery_point_lat  \\\n",
       "0  313483a19d2f8d65cd5024c8d215cfbd          -48.116189          -15.848929   \n",
       "0  320c94b17aa685c939b3f3244c3099de          -48.118195          -15.850772   \n",
       "0  3663b42f4b8decb33059febaba46d5c8          -48.112483          -15.847871   \n",
       "0   e11ab58363c38d6abc90d5fba87b7d7          -48.118023          -15.846471   \n",
       "0  54cb45b7bbbd4e34e7150900f92d7f4b          -48.114898          -15.858055   \n",
       "\n",
       "   delivery_size  \n",
       "0              9  \n",
       "0              2  \n",
       "0              1  \n",
       "0              2  \n",
       "0              7  "
      ]
     },
     "execution_count": 16,
     "metadata": {},
     "output_type": "execute_result"
    }
   ],
   "source": [
    "deliveries_df = pd.merge(left=deliveries_df, right=deliveries_exploded_df, how='right', left_index=True, right_index=True)\n",
    "deliveries_df = deliveries_df.drop(['deliveries'], axis=1)\n",
    "deliveries_df.head()"
   ]
  },
  {
   "cell_type": "code",
   "execution_count": 17,
   "id": "caed824c",
   "metadata": {
    "execution": {
     "iopub.execute_input": "2023-10-27T18:04:03.710060Z",
     "iopub.status.busy": "2023-10-27T18:04:03.708510Z",
     "iopub.status.idle": "2023-10-27T18:04:03.799918Z",
     "shell.execute_reply": "2023-10-27T18:04:03.798051Z"
    },
    "papermill": {
     "duration": 0.106536,
     "end_time": "2023-10-27T18:04:03.802368",
     "exception": false,
     "start_time": "2023-10-27T18:04:03.695832",
     "status": "completed"
    },
    "tags": []
   },
   "outputs": [
    {
     "data": {
      "text/plain": [
       "Index(['name', 'region', 'hub_lat', 'hub_lng', 'vehicle_capacity',\n",
       "       'delivery_id', 'delivery_lng', 'delivery_lat', 'delivery_size'],\n",
       "      dtype='object')"
      ]
     },
     "execution_count": 17,
     "metadata": {},
     "output_type": "execute_result"
    }
   ],
   "source": [
    "deliveries_df = deliveries_df.rename(columns={\n",
    "    'delivery_point_lng': 'delivery_lng',\n",
    "    'delivery_point_lat': 'delivery_lat'\n",
    "})\n",
    "deliveries_df.columns"
   ]
  },
  {
   "cell_type": "code",
   "execution_count": 18,
   "id": "9cbc21c6",
   "metadata": {
    "execution": {
     "iopub.execute_input": "2023-10-27T18:04:03.829605Z",
     "iopub.status.busy": "2023-10-27T18:04:03.828622Z",
     "iopub.status.idle": "2023-10-27T18:04:03.836944Z",
     "shell.execute_reply": "2023-10-27T18:04:03.835633Z"
    },
    "papermill": {
     "duration": 0.024785,
     "end_time": "2023-10-27T18:04:03.839102",
     "exception": false,
     "start_time": "2023-10-27T18:04:03.814317",
     "status": "completed"
    },
    "tags": []
   },
   "outputs": [
    {
     "data": {
      "text/plain": [
       "(636149, 9)"
      ]
     },
     "execution_count": 18,
     "metadata": {},
     "output_type": "execute_result"
    }
   ],
   "source": [
    "deliveries_df.shape"
   ]
  },
  {
   "cell_type": "markdown",
   "id": "f72d2f80",
   "metadata": {
    "papermill": {
     "duration": 0.011874,
     "end_time": "2023-10-27T18:04:03.863114",
     "exception": false,
     "start_time": "2023-10-27T18:04:03.851240",
     "status": "completed"
    },
    "tags": []
   },
   "source": [
    "Another thing that can be verified is if the resulting dataframe has missing values. In this case, it doesn't have null or nan values, so there's no need for further cleaning of the dataset."
   ]
  },
  {
   "cell_type": "code",
   "execution_count": 19,
   "id": "f121c15e",
   "metadata": {
    "execution": {
     "iopub.execute_input": "2023-10-27T18:04:03.891466Z",
     "iopub.status.busy": "2023-10-27T18:04:03.891019Z",
     "iopub.status.idle": "2023-10-27T18:04:03.962952Z",
     "shell.execute_reply": "2023-10-27T18:04:03.961373Z"
    },
    "papermill": {
     "duration": 0.090533,
     "end_time": "2023-10-27T18:04:03.965802",
     "exception": false,
     "start_time": "2023-10-27T18:04:03.875269",
     "status": "completed"
    },
    "tags": []
   },
   "outputs": [
    {
     "data": {
      "text/plain": [
       "name                False\n",
       "region              False\n",
       "hub_lat             False\n",
       "hub_lng             False\n",
       "vehicle_capacity    False\n",
       "delivery_id         False\n",
       "delivery_lng        False\n",
       "delivery_lat        False\n",
       "delivery_size       False\n",
       "dtype: bool"
      ]
     },
     "execution_count": 19,
     "metadata": {},
     "output_type": "execute_result"
    }
   ],
   "source": [
    "deliveries_df.isna().any()"
   ]
  },
  {
   "cell_type": "markdown",
   "id": "10fc948f",
   "metadata": {
    "papermill": {
     "duration": 0.011544,
     "end_time": "2023-10-27T18:04:03.989571",
     "exception": false,
     "start_time": "2023-10-27T18:04:03.978027",
     "status": "completed"
    },
    "tags": []
   },
   "source": [
    "The last step is loading this Pandas DataFrame as a CSV file to be stored and used for the rest of the project."
   ]
  },
  {
   "cell_type": "code",
   "execution_count": 20,
   "id": "52e0caec",
   "metadata": {
    "execution": {
     "iopub.execute_input": "2023-10-27T18:04:04.015453Z",
     "iopub.status.busy": "2023-10-27T18:04:04.015136Z",
     "iopub.status.idle": "2023-10-27T18:04:07.774323Z",
     "shell.execute_reply": "2023-10-27T18:04:07.772666Z"
    },
    "papermill": {
     "duration": 3.775199,
     "end_time": "2023-10-27T18:04:07.777110",
     "exception": false,
     "start_time": "2023-10-27T18:04:04.001911",
     "status": "completed"
    },
    "tags": []
   },
   "outputs": [],
   "source": [
    "deliveries_df.to_csv('../working/deliveries_clean.csv', sep=',', index=False)"
   ]
  },
  {
   "cell_type": "markdown",
   "id": "18d95086",
   "metadata": {
    "papermill": {
     "duration": 0.011676,
     "end_time": "2023-10-27T18:04:07.800729",
     "exception": false,
     "start_time": "2023-10-27T18:04:07.789053",
     "status": "completed"
    },
    "tags": []
   },
   "source": [
    "\n",
    "# 2. Reverse Geocoding"
   ]
  },
  {
   "cell_type": "markdown",
   "id": "c75439a6",
   "metadata": {
    "papermill": {
     "duration": 0.011788,
     "end_time": "2023-10-27T18:04:07.824451",
     "exception": false,
     "start_time": "2023-10-27T18:04:07.812663",
     "status": "completed"
    },
    "tags": []
   },
   "source": [
    "**Geocoding** is the process of transforming a location described by text (address, location name etc) into the geographical coordinate (latitude and longitude). In contrast, **reverse geocoding** is the inverse process of converting geographical coordinates into the location described as the address text."
   ]
  },
  {
   "cell_type": "code",
   "execution_count": 21,
   "id": "4d01e8fd",
   "metadata": {
    "execution": {
     "iopub.execute_input": "2023-10-27T18:04:07.851253Z",
     "iopub.status.busy": "2023-10-27T18:04:07.850856Z",
     "iopub.status.idle": "2023-10-27T18:04:09.865628Z",
     "shell.execute_reply": "2023-10-27T18:04:09.863257Z"
    },
    "papermill": {
     "duration": 2.032742,
     "end_time": "2023-10-27T18:04:09.869531",
     "exception": false,
     "start_time": "2023-10-27T18:04:07.836789",
     "status": "completed"
    },
    "tags": []
   },
   "outputs": [
    {
     "data": {
      "text/html": [
       "<div>\n",
       "<style scoped>\n",
       "    .dataframe tbody tr th:only-of-type {\n",
       "        vertical-align: middle;\n",
       "    }\n",
       "\n",
       "    .dataframe tbody tr th {\n",
       "        vertical-align: top;\n",
       "    }\n",
       "\n",
       "    .dataframe thead th {\n",
       "        text-align: right;\n",
       "    }\n",
       "</style>\n",
       "<table border=\"1\" class=\"dataframe\">\n",
       "  <thead>\n",
       "    <tr style=\"text-align: right;\">\n",
       "      <th></th>\n",
       "      <th>region</th>\n",
       "      <th>hub_lat</th>\n",
       "      <th>hub_lng</th>\n",
       "    </tr>\n",
       "  </thead>\n",
       "  <tbody>\n",
       "    <tr>\n",
       "      <th>0</th>\n",
       "      <td>df-0</td>\n",
       "      <td>-15.657014</td>\n",
       "      <td>-47.802665</td>\n",
       "    </tr>\n",
       "    <tr>\n",
       "      <th>1</th>\n",
       "      <td>df-1</td>\n",
       "      <td>-15.805118</td>\n",
       "      <td>-47.893662</td>\n",
       "    </tr>\n",
       "    <tr>\n",
       "      <th>2</th>\n",
       "      <td>df-2</td>\n",
       "      <td>-15.838145</td>\n",
       "      <td>-48.054989</td>\n",
       "    </tr>\n",
       "  </tbody>\n",
       "</table>\n",
       "</div>"
      ],
      "text/plain": [
       "  region    hub_lat    hub_lng\n",
       "0   df-0 -15.657014 -47.802665\n",
       "1   df-1 -15.805118 -47.893662\n",
       "2   df-2 -15.838145 -48.054989"
      ]
     },
     "execution_count": 21,
     "metadata": {},
     "output_type": "execute_result"
    }
   ],
   "source": [
    "deliveries_df = pd.read_csv('../input/deliveries-data/deliveries_clean.csv', sep=',')\n",
    "hub_df = deliveries_df[['region', 'hub_lat', 'hub_lng']]\n",
    "hub_df = hub_df.drop_duplicates().sort_values(by='region').reset_index(drop=True)\n",
    "hub_df.head()"
   ]
  },
  {
   "cell_type": "markdown",
   "id": "6c8e1360",
   "metadata": {
    "papermill": {
     "duration": 0.017663,
     "end_time": "2023-10-27T18:04:09.900500",
     "exception": false,
     "start_time": "2023-10-27T18:04:09.882837",
     "status": "completed"
    },
    "tags": []
   },
   "source": [
    "The Python package `geopy` can process coordinates and return address information. There are free to use geocoding services like **Nominatim**, but there are restrictions such as only allowing one query per second."
   ]
  },
  {
   "cell_type": "code",
   "execution_count": 22,
   "id": "975bd1e3",
   "metadata": {
    "execution": {
     "iopub.execute_input": "2023-10-27T18:04:09.934251Z",
     "iopub.status.busy": "2023-10-27T18:04:09.933807Z",
     "iopub.status.idle": "2023-10-27T18:04:10.346225Z",
     "shell.execute_reply": "2023-10-27T18:04:10.343591Z"
    },
    "papermill": {
     "duration": 0.434123,
     "end_time": "2023-10-27T18:04:10.351650",
     "exception": false,
     "start_time": "2023-10-27T18:04:09.917527",
     "status": "completed"
    },
    "tags": []
   },
   "outputs": [
    {
     "name": "stdout",
     "output_type": "stream",
     "text": [
      "{\n",
      "  \"place_id\": 46082661,\n",
      "  \"licence\": \"Data © OpenStreetMap contributors, ODbL 1.0. http://osm.org/copyright\",\n",
      "  \"osm_type\": \"way\",\n",
      "  \"osm_id\": 240210480,\n",
      "  \"lat\": \"-15.656916027876347\",\n",
      "  \"lon\": \"-47.80264463632131\",\n",
      "  \"class\": \"highway\",\n",
      "  \"type\": \"secondary\",\n",
      "  \"place_rank\": 26,\n",
      "  \"importance\": 0.10000999999999993,\n",
      "  \"addresstype\": \"road\",\n",
      "  \"name\": \"Rua 7\",\n",
      "  \"display_name\": \"Rua 7, Quadra 2, Sobradinho, Região Geográfica Imediata do Distrito Federal, Região Integrada de Desenvolvimento do Distrito Federal e Entorno, Região Geográfica Intermediária do Distrito Federal, Distrito Federal, Região Centro-Oeste, 73015-202, Brasil\",\n",
      "  \"address\": {\n",
      "    \"road\": \"Rua 7\",\n",
      "    \"residential\": \"Quadra 2\",\n",
      "    \"suburb\": \"Sobradinho\",\n",
      "    \"town\": \"Sobradinho\",\n",
      "    \"municipality\": \"Região Geográfica Imediata do Distrito Federal\",\n",
      "    \"county\": \"Região Integrada de Desenvolvimento do Distrito Federal e Entorno\",\n",
      "    \"state_district\": \"Região Geográfica Intermediária do Distrito Federal\",\n",
      "    \"state\": \"Distrito Federal\",\n",
      "    \"ISO3166-2-lvl4\": \"BR-DF\",\n",
      "    \"region\": \"Região Centro-Oeste\",\n",
      "    \"postcode\": \"73015-202\",\n",
      "    \"country\": \"Brasil\",\n",
      "    \"country_code\": \"br\"\n",
      "  },\n",
      "  \"boundingbox\": [\n",
      "    \"-15.6572841\",\n",
      "    \"-15.6565043\",\n",
      "    \"-47.8047361\",\n",
      "    \"-47.8007862\"\n",
      "  ]\n",
      "}\n"
     ]
    }
   ],
   "source": [
    "import json\n",
    "\n",
    "import geopy\n",
    "from geopy.geocoders import Nominatim\n",
    "\n",
    "lat = str(hub_df['hub_lat'].iloc[0])\n",
    "lng = str(hub_df['hub_lng'].iloc[0])\n",
    "coordinate = (lat, lng)\n",
    "geolocator = Nominatim(user_agent='ebac_geocoder')\n",
    "location = geolocator.reverse(coordinate) # Accepts tuple of coordinates\n",
    "\n",
    "print(json.dumps(\n",
    "    location.raw, indent=2, ensure_ascii=False\n",
    "))"
   ]
  },
  {
   "cell_type": "markdown",
   "id": "ab6d4153",
   "metadata": {
    "papermill": {
     "duration": 0.013441,
     "end_time": "2023-10-27T18:04:10.379407",
     "exception": false,
     "start_time": "2023-10-27T18:04:10.365966",
     "status": "completed"
    },
    "tags": []
   },
   "source": [
    "As there are only three instances of hub coordinates, we can extract information about the city and suburb and join it to the DataFrame."
   ]
  },
  {
   "cell_type": "code",
   "execution_count": 23,
   "id": "95a67f8d",
   "metadata": {
    "execution": {
     "iopub.execute_input": "2023-10-27T18:04:10.408657Z",
     "iopub.status.busy": "2023-10-27T18:04:10.408000Z",
     "iopub.status.idle": "2023-10-27T18:04:10.419901Z",
     "shell.execute_reply": "2023-10-27T18:04:10.417681Z"
    },
    "papermill": {
     "duration": 0.03059,
     "end_time": "2023-10-27T18:04:10.423052",
     "exception": false,
     "start_time": "2023-10-27T18:04:10.392462",
     "status": "completed"
    },
    "tags": []
   },
   "outputs": [],
   "source": [
    "from geopy.extra.rate_limiter import RateLimiter\n",
    "\n",
    "geocoder = RateLimiter(geolocator.reverse, min_delay_seconds=1)"
   ]
  },
  {
   "cell_type": "code",
   "execution_count": 24,
   "id": "363267bd",
   "metadata": {
    "execution": {
     "iopub.execute_input": "2023-10-27T18:04:10.453352Z",
     "iopub.status.busy": "2023-10-27T18:04:10.452938Z",
     "iopub.status.idle": "2023-10-27T18:04:12.524072Z",
     "shell.execute_reply": "2023-10-27T18:04:12.521983Z"
    },
    "papermill": {
     "duration": 2.091083,
     "end_time": "2023-10-27T18:04:12.527276",
     "exception": false,
     "start_time": "2023-10-27T18:04:10.436193",
     "status": "completed"
    },
    "tags": []
   },
   "outputs": [
    {
     "data": {
      "text/html": [
       "<div>\n",
       "<style scoped>\n",
       "    .dataframe tbody tr th:only-of-type {\n",
       "        vertical-align: middle;\n",
       "    }\n",
       "\n",
       "    .dataframe tbody tr th {\n",
       "        vertical-align: top;\n",
       "    }\n",
       "\n",
       "    .dataframe thead th {\n",
       "        text-align: right;\n",
       "    }\n",
       "</style>\n",
       "<table border=\"1\" class=\"dataframe\">\n",
       "  <thead>\n",
       "    <tr style=\"text-align: right;\">\n",
       "      <th></th>\n",
       "      <th>region</th>\n",
       "      <th>hub_lat</th>\n",
       "      <th>hub_lng</th>\n",
       "      <th>coordinates</th>\n",
       "      <th>geodata</th>\n",
       "    </tr>\n",
       "  </thead>\n",
       "  <tbody>\n",
       "    <tr>\n",
       "      <th>0</th>\n",
       "      <td>df-0</td>\n",
       "      <td>-15.657014</td>\n",
       "      <td>-47.802665</td>\n",
       "      <td>(-15.657013854445248, -47.802664728268745)</td>\n",
       "      <td>(Rua 7, Quadra 2, Sobradinho, Região Geográfic...</td>\n",
       "    </tr>\n",
       "    <tr>\n",
       "      <th>1</th>\n",
       "      <td>df-1</td>\n",
       "      <td>-15.805118</td>\n",
       "      <td>-47.893662</td>\n",
       "      <td>(-15.80511751066334, -47.89366206897872)</td>\n",
       "      <td>(SQS 303, Asa Sul, Brasília, Plano Piloto, Reg...</td>\n",
       "    </tr>\n",
       "    <tr>\n",
       "      <th>2</th>\n",
       "      <td>df-2</td>\n",
       "      <td>-15.838145</td>\n",
       "      <td>-48.054989</td>\n",
       "      <td>(-15.83814451122274, -48.05498915846707)</td>\n",
       "      <td>(Armazém do Bolo, lote 4/8, CSB 4/5, Taguating...</td>\n",
       "    </tr>\n",
       "  </tbody>\n",
       "</table>\n",
       "</div>"
      ],
      "text/plain": [
       "  region    hub_lat    hub_lng                                 coordinates  \\\n",
       "0   df-0 -15.657014 -47.802665  (-15.657013854445248, -47.802664728268745)   \n",
       "1   df-1 -15.805118 -47.893662    (-15.80511751066334, -47.89366206897872)   \n",
       "2   df-2 -15.838145 -48.054989    (-15.83814451122274, -48.05498915846707)   \n",
       "\n",
       "                                             geodata  \n",
       "0  (Rua 7, Quadra 2, Sobradinho, Região Geográfic...  \n",
       "1  (SQS 303, Asa Sul, Brasília, Plano Piloto, Reg...  \n",
       "2  (Armazém do Bolo, lote 4/8, CSB 4/5, Taguating...  "
      ]
     },
     "execution_count": 24,
     "metadata": {},
     "output_type": "execute_result"
    }
   ],
   "source": [
    "# hub_df['coordinates'] = hub_df['hub_lat'].astype(str) + ', ' + hub_df['hub_lng'].astype(str)\n",
    "hub_df['coordinates'] = hub_df[['hub_lat', 'hub_lng']].apply(tuple, axis=1)\n",
    "hub_df['geodata'] = hub_df['coordinates'].apply(geocoder)\n",
    "hub_df.head()"
   ]
  },
  {
   "cell_type": "code",
   "execution_count": 25,
   "id": "5c427c9d",
   "metadata": {
    "execution": {
     "iopub.execute_input": "2023-10-27T18:04:12.555741Z",
     "iopub.status.busy": "2023-10-27T18:04:12.555346Z",
     "iopub.status.idle": "2023-10-27T18:04:12.574264Z",
     "shell.execute_reply": "2023-10-27T18:04:12.572807Z"
    },
    "papermill": {
     "duration": 0.036048,
     "end_time": "2023-10-27T18:04:12.576642",
     "exception": false,
     "start_time": "2023-10-27T18:04:12.540594",
     "status": "completed"
    },
    "tags": []
   },
   "outputs": [
    {
     "data": {
      "text/html": [
       "<div>\n",
       "<style scoped>\n",
       "    .dataframe tbody tr th:only-of-type {\n",
       "        vertical-align: middle;\n",
       "    }\n",
       "\n",
       "    .dataframe tbody tr th {\n",
       "        vertical-align: top;\n",
       "    }\n",
       "\n",
       "    .dataframe thead th {\n",
       "        text-align: right;\n",
       "    }\n",
       "</style>\n",
       "<table border=\"1\" class=\"dataframe\">\n",
       "  <thead>\n",
       "    <tr style=\"text-align: right;\">\n",
       "      <th></th>\n",
       "      <th>region</th>\n",
       "      <th>hub_lat</th>\n",
       "      <th>hub_lng</th>\n",
       "      <th>coordinates</th>\n",
       "      <th>geodata</th>\n",
       "    </tr>\n",
       "  </thead>\n",
       "  <tbody>\n",
       "    <tr>\n",
       "      <th>0</th>\n",
       "      <td>df-0</td>\n",
       "      <td>-15.657014</td>\n",
       "      <td>-47.802665</td>\n",
       "      <td>(-15.657013854445248, -47.802664728268745)</td>\n",
       "      <td>{'place_id': 46082661, 'licence': 'Data © Open...</td>\n",
       "    </tr>\n",
       "    <tr>\n",
       "      <th>1</th>\n",
       "      <td>df-1</td>\n",
       "      <td>-15.805118</td>\n",
       "      <td>-47.893662</td>\n",
       "      <td>(-15.80511751066334, -47.89366206897872)</td>\n",
       "      <td>{'place_id': 46676578, 'licence': 'Data © Open...</td>\n",
       "    </tr>\n",
       "    <tr>\n",
       "      <th>2</th>\n",
       "      <td>df-2</td>\n",
       "      <td>-15.838145</td>\n",
       "      <td>-48.054989</td>\n",
       "      <td>(-15.83814451122274, -48.05498915846707)</td>\n",
       "      <td>{'place_id': 43508444, 'licence': 'Data © Open...</td>\n",
       "    </tr>\n",
       "  </tbody>\n",
       "</table>\n",
       "</div>"
      ],
      "text/plain": [
       "  region    hub_lat    hub_lng                                 coordinates  \\\n",
       "0   df-0 -15.657014 -47.802665  (-15.657013854445248, -47.802664728268745)   \n",
       "1   df-1 -15.805118 -47.893662    (-15.80511751066334, -47.89366206897872)   \n",
       "2   df-2 -15.838145 -48.054989    (-15.83814451122274, -48.05498915846707)   \n",
       "\n",
       "                                             geodata  \n",
       "0  {'place_id': 46082661, 'licence': 'Data © Open...  \n",
       "1  {'place_id': 46676578, 'licence': 'Data © Open...  \n",
       "2  {'place_id': 43508444, 'licence': 'Data © Open...  "
      ]
     },
     "execution_count": 25,
     "metadata": {},
     "output_type": "execute_result"
    }
   ],
   "source": [
    "hub_df['geodata'] = hub_df['geodata'].apply(lambda data: data.raw)\n",
    "hub_df.head()"
   ]
  },
  {
   "cell_type": "markdown",
   "id": "f1c442e6",
   "metadata": {
    "papermill": {
     "duration": 0.013778,
     "end_time": "2023-10-27T18:04:12.603680",
     "exception": false,
     "start_time": "2023-10-27T18:04:12.589902",
     "status": "completed"
    },
    "tags": []
   },
   "source": [
    "Now, we can see that the `geodata` column contains dictionaries. Once again, we need to normalize it via `pd.json_normalize()` to extract the relevant information of city and suburb."
   ]
  },
  {
   "cell_type": "code",
   "execution_count": 26,
   "id": "13e5dec2",
   "metadata": {
    "execution": {
     "iopub.execute_input": "2023-10-27T18:04:12.632023Z",
     "iopub.status.busy": "2023-10-27T18:04:12.631567Z",
     "iopub.status.idle": "2023-10-27T18:04:12.658057Z",
     "shell.execute_reply": "2023-10-27T18:04:12.656729Z"
    },
    "papermill": {
     "duration": 0.043815,
     "end_time": "2023-10-27T18:04:12.660396",
     "exception": false,
     "start_time": "2023-10-27T18:04:12.616581",
     "status": "completed"
    },
    "tags": []
   },
   "outputs": [
    {
     "data": {
      "text/html": [
       "<div>\n",
       "<style scoped>\n",
       "    .dataframe tbody tr th:only-of-type {\n",
       "        vertical-align: middle;\n",
       "    }\n",
       "\n",
       "    .dataframe tbody tr th {\n",
       "        vertical-align: top;\n",
       "    }\n",
       "\n",
       "    .dataframe thead th {\n",
       "        text-align: right;\n",
       "    }\n",
       "</style>\n",
       "<table border=\"1\" class=\"dataframe\">\n",
       "  <thead>\n",
       "    <tr style=\"text-align: right;\">\n",
       "      <th></th>\n",
       "      <th>place_id</th>\n",
       "      <th>licence</th>\n",
       "      <th>osm_type</th>\n",
       "      <th>osm_id</th>\n",
       "      <th>lat</th>\n",
       "      <th>lon</th>\n",
       "      <th>class</th>\n",
       "      <th>type</th>\n",
       "      <th>place_rank</th>\n",
       "      <th>importance</th>\n",
       "      <th>...</th>\n",
       "      <th>address.state</th>\n",
       "      <th>address.ISO3166-2-lvl4</th>\n",
       "      <th>address.region</th>\n",
       "      <th>address.postcode</th>\n",
       "      <th>address.country</th>\n",
       "      <th>address.country_code</th>\n",
       "      <th>address.neighbourhood</th>\n",
       "      <th>address.city</th>\n",
       "      <th>address.shop</th>\n",
       "      <th>address.house_number</th>\n",
       "    </tr>\n",
       "  </thead>\n",
       "  <tbody>\n",
       "    <tr>\n",
       "      <th>0</th>\n",
       "      <td>46082661</td>\n",
       "      <td>Data © OpenStreetMap contributors, ODbL 1.0. h...</td>\n",
       "      <td>way</td>\n",
       "      <td>240210480</td>\n",
       "      <td>-15.656916027876347</td>\n",
       "      <td>-47.80264463632131</td>\n",
       "      <td>highway</td>\n",
       "      <td>secondary</td>\n",
       "      <td>26</td>\n",
       "      <td>0.10001</td>\n",
       "      <td>...</td>\n",
       "      <td>Distrito Federal</td>\n",
       "      <td>BR-DF</td>\n",
       "      <td>Região Centro-Oeste</td>\n",
       "      <td>73015-202</td>\n",
       "      <td>Brasil</td>\n",
       "      <td>br</td>\n",
       "      <td>NaN</td>\n",
       "      <td>NaN</td>\n",
       "      <td>NaN</td>\n",
       "      <td>NaN</td>\n",
       "    </tr>\n",
       "    <tr>\n",
       "      <th>1</th>\n",
       "      <td>46676578</td>\n",
       "      <td>Data © OpenStreetMap contributors, ODbL 1.0. h...</td>\n",
       "      <td>way</td>\n",
       "      <td>66353368</td>\n",
       "      <td>-15.805172757199022</td>\n",
       "      <td>-47.893723539491205</td>\n",
       "      <td>highway</td>\n",
       "      <td>residential</td>\n",
       "      <td>26</td>\n",
       "      <td>0.10001</td>\n",
       "      <td>...</td>\n",
       "      <td>Distrito Federal</td>\n",
       "      <td>BR-DF</td>\n",
       "      <td>Região Centro-Oeste</td>\n",
       "      <td>70342-010</td>\n",
       "      <td>Brasil</td>\n",
       "      <td>br</td>\n",
       "      <td>SQS 303</td>\n",
       "      <td>Brasília</td>\n",
       "      <td>NaN</td>\n",
       "      <td>NaN</td>\n",
       "    </tr>\n",
       "    <tr>\n",
       "      <th>2</th>\n",
       "      <td>43508444</td>\n",
       "      <td>Data © OpenStreetMap contributors, ODbL 1.0. h...</td>\n",
       "      <td>node</td>\n",
       "      <td>6249717596</td>\n",
       "      <td>-15.8384371</td>\n",
       "      <td>-48.0552917</td>\n",
       "      <td>shop</td>\n",
       "      <td>pastry</td>\n",
       "      <td>30</td>\n",
       "      <td>0.00001</td>\n",
       "      <td>...</td>\n",
       "      <td>Distrito Federal</td>\n",
       "      <td>BR-DF</td>\n",
       "      <td>Região Centro-Oeste</td>\n",
       "      <td>72015-030</td>\n",
       "      <td>Brasil</td>\n",
       "      <td>br</td>\n",
       "      <td>NaN</td>\n",
       "      <td>Taguatinga</td>\n",
       "      <td>Armazém do Bolo</td>\n",
       "      <td>lote 4/8</td>\n",
       "    </tr>\n",
       "  </tbody>\n",
       "</table>\n",
       "<p>3 rows × 31 columns</p>\n",
       "</div>"
      ],
      "text/plain": [
       "   place_id                                            licence osm_type  \\\n",
       "0  46082661  Data © OpenStreetMap contributors, ODbL 1.0. h...      way   \n",
       "1  46676578  Data © OpenStreetMap contributors, ODbL 1.0. h...      way   \n",
       "2  43508444  Data © OpenStreetMap contributors, ODbL 1.0. h...     node   \n",
       "\n",
       "       osm_id                  lat                  lon    class         type  \\\n",
       "0   240210480  -15.656916027876347   -47.80264463632131  highway    secondary   \n",
       "1    66353368  -15.805172757199022  -47.893723539491205  highway  residential   \n",
       "2  6249717596          -15.8384371          -48.0552917     shop       pastry   \n",
       "\n",
       "   place_rank  importance  ...     address.state address.ISO3166-2-lvl4  \\\n",
       "0          26     0.10001  ...  Distrito Federal                  BR-DF   \n",
       "1          26     0.10001  ...  Distrito Federal                  BR-DF   \n",
       "2          30     0.00001  ...  Distrito Federal                  BR-DF   \n",
       "\n",
       "        address.region address.postcode address.country address.country_code  \\\n",
       "0  Região Centro-Oeste        73015-202          Brasil                   br   \n",
       "1  Região Centro-Oeste        70342-010          Brasil                   br   \n",
       "2  Região Centro-Oeste        72015-030          Brasil                   br   \n",
       "\n",
       "  address.neighbourhood address.city     address.shop address.house_number  \n",
       "0                   NaN          NaN              NaN                  NaN  \n",
       "1               SQS 303     Brasília              NaN                  NaN  \n",
       "2                   NaN   Taguatinga  Armazém do Bolo             lote 4/8  \n",
       "\n",
       "[3 rows x 31 columns]"
      ]
     },
     "execution_count": 26,
     "metadata": {},
     "output_type": "execute_result"
    }
   ],
   "source": [
    "hub_geodata_df = pd.json_normalize(hub_df['geodata'])\n",
    "hub_geodata_df.head()"
   ]
  },
  {
   "cell_type": "code",
   "execution_count": 27,
   "id": "c002f933",
   "metadata": {
    "execution": {
     "iopub.execute_input": "2023-10-27T18:04:12.690234Z",
     "iopub.status.busy": "2023-10-27T18:04:12.689730Z",
     "iopub.status.idle": "2023-10-27T18:04:12.698776Z",
     "shell.execute_reply": "2023-10-27T18:04:12.697161Z"
    },
    "papermill": {
     "duration": 0.0273,
     "end_time": "2023-10-27T18:04:12.701474",
     "exception": false,
     "start_time": "2023-10-27T18:04:12.674174",
     "status": "completed"
    },
    "tags": []
   },
   "outputs": [
    {
     "data": {
      "text/plain": [
       "Index(['place_id', 'licence', 'osm_type', 'osm_id', 'lat', 'lon', 'class',\n",
       "       'type', 'place_rank', 'importance', 'addresstype', 'name',\n",
       "       'display_name', 'boundingbox', 'address.road', 'address.residential',\n",
       "       'address.suburb', 'address.town', 'address.municipality',\n",
       "       'address.county', 'address.state_district', 'address.state',\n",
       "       'address.ISO3166-2-lvl4', 'address.region', 'address.postcode',\n",
       "       'address.country', 'address.country_code', 'address.neighbourhood',\n",
       "       'address.city', 'address.shop', 'address.house_number'],\n",
       "      dtype='object')"
      ]
     },
     "execution_count": 27,
     "metadata": {},
     "output_type": "execute_result"
    }
   ],
   "source": [
    "hub_geodata_df.columns"
   ]
  },
  {
   "cell_type": "code",
   "execution_count": 28,
   "id": "53bed17e",
   "metadata": {
    "execution": {
     "iopub.execute_input": "2023-10-27T18:04:12.733316Z",
     "iopub.status.busy": "2023-10-27T18:04:12.732481Z",
     "iopub.status.idle": "2023-10-27T18:04:12.749036Z",
     "shell.execute_reply": "2023-10-27T18:04:12.746570Z"
    },
    "papermill": {
     "duration": 0.036714,
     "end_time": "2023-10-27T18:04:12.752060",
     "exception": false,
     "start_time": "2023-10-27T18:04:12.715346",
     "status": "completed"
    },
    "tags": []
   },
   "outputs": [
    {
     "data": {
      "text/html": [
       "<div>\n",
       "<style scoped>\n",
       "    .dataframe tbody tr th:only-of-type {\n",
       "        vertical-align: middle;\n",
       "    }\n",
       "\n",
       "    .dataframe tbody tr th {\n",
       "        vertical-align: top;\n",
       "    }\n",
       "\n",
       "    .dataframe thead th {\n",
       "        text-align: right;\n",
       "    }\n",
       "</style>\n",
       "<table border=\"1\" class=\"dataframe\">\n",
       "  <thead>\n",
       "    <tr style=\"text-align: right;\">\n",
       "      <th></th>\n",
       "      <th>hub_town</th>\n",
       "      <th>hub_suburb</th>\n",
       "      <th>hub_city</th>\n",
       "    </tr>\n",
       "  </thead>\n",
       "  <tbody>\n",
       "    <tr>\n",
       "      <th>0</th>\n",
       "      <td>Sobradinho</td>\n",
       "      <td>Sobradinho</td>\n",
       "      <td>NaN</td>\n",
       "    </tr>\n",
       "    <tr>\n",
       "      <th>1</th>\n",
       "      <td>NaN</td>\n",
       "      <td>Asa Sul</td>\n",
       "      <td>Brasília</td>\n",
       "    </tr>\n",
       "    <tr>\n",
       "      <th>2</th>\n",
       "      <td>NaN</td>\n",
       "      <td>NaN</td>\n",
       "      <td>Taguatinga</td>\n",
       "    </tr>\n",
       "  </tbody>\n",
       "</table>\n",
       "</div>"
      ],
      "text/plain": [
       "     hub_town  hub_suburb    hub_city\n",
       "0  Sobradinho  Sobradinho         NaN\n",
       "1         NaN     Asa Sul    Brasília\n",
       "2         NaN         NaN  Taguatinga"
      ]
     },
     "execution_count": 28,
     "metadata": {},
     "output_type": "execute_result"
    }
   ],
   "source": [
    "hub_geodata_df = hub_geodata_df[['address.town', 'address.suburb', 'address.city']]\n",
    "hub_geodata_df.rename(columns={\n",
    "    'address.town': 'hub_town',\n",
    "    'address.suburb': 'hub_suburb',\n",
    "    'address.city': 'hub_city'\n",
    "}, inplace=True)\n",
    "hub_geodata_df.head()"
   ]
  },
  {
   "cell_type": "code",
   "execution_count": 29,
   "id": "930098d2",
   "metadata": {
    "execution": {
     "iopub.execute_input": "2023-10-27T18:04:12.782172Z",
     "iopub.status.busy": "2023-10-27T18:04:12.781806Z",
     "iopub.status.idle": "2023-10-27T18:04:12.796479Z",
     "shell.execute_reply": "2023-10-27T18:04:12.795172Z"
    },
    "papermill": {
     "duration": 0.032698,
     "end_time": "2023-10-27T18:04:12.799120",
     "exception": false,
     "start_time": "2023-10-27T18:04:12.766422",
     "status": "completed"
    },
    "tags": []
   },
   "outputs": [
    {
     "data": {
      "text/html": [
       "<div>\n",
       "<style scoped>\n",
       "    .dataframe tbody tr th:only-of-type {\n",
       "        vertical-align: middle;\n",
       "    }\n",
       "\n",
       "    .dataframe tbody tr th {\n",
       "        vertical-align: top;\n",
       "    }\n",
       "\n",
       "    .dataframe thead th {\n",
       "        text-align: right;\n",
       "    }\n",
       "</style>\n",
       "<table border=\"1\" class=\"dataframe\">\n",
       "  <thead>\n",
       "    <tr style=\"text-align: right;\">\n",
       "      <th></th>\n",
       "      <th>hub_suburb</th>\n",
       "      <th>hub_city</th>\n",
       "    </tr>\n",
       "  </thead>\n",
       "  <tbody>\n",
       "    <tr>\n",
       "      <th>0</th>\n",
       "      <td>Sobradinho</td>\n",
       "      <td>Sobradinho</td>\n",
       "    </tr>\n",
       "    <tr>\n",
       "      <th>1</th>\n",
       "      <td>Asa Sul</td>\n",
       "      <td>Brasília</td>\n",
       "    </tr>\n",
       "    <tr>\n",
       "      <th>2</th>\n",
       "      <td>Taguatinga</td>\n",
       "      <td>Taguatinga</td>\n",
       "    </tr>\n",
       "  </tbody>\n",
       "</table>\n",
       "</div>"
      ],
      "text/plain": [
       "   hub_suburb    hub_city\n",
       "0  Sobradinho  Sobradinho\n",
       "1     Asa Sul    Brasília\n",
       "2  Taguatinga  Taguatinga"
      ]
     },
     "execution_count": 29,
     "metadata": {},
     "output_type": "execute_result"
    }
   ],
   "source": [
    "hub_geodata_df['hub_city'] = np.where(hub_geodata_df['hub_city'].notna(), hub_geodata_df['hub_city'], hub_geodata_df['hub_town'])\n",
    "hub_geodata_df['hub_suburb'] = np.where(hub_geodata_df['hub_suburb'].notna(), hub_geodata_df['hub_suburb'], hub_geodata_df['hub_city'])\n",
    "hub_geodata_df = hub_geodata_df.drop('hub_town', axis=1)\n",
    "hub_geodata_df.head()\n",
    "# Brasília tem subdivisões de bairros, mas não as cidades satélites"
   ]
  },
  {
   "cell_type": "markdown",
   "id": "223c617a",
   "metadata": {
    "papermill": {
     "duration": 0.013869,
     "end_time": "2023-10-27T18:04:12.826956",
     "exception": false,
     "start_time": "2023-10-27T18:04:12.813087",
     "status": "completed"
    },
    "tags": []
   },
   "source": [
    "Com estas informações, podemos combinar o DataFrame gerado com o DataFrame principal `deliveries_df` com o método `pd.merge()`."
   ]
  },
  {
   "cell_type": "code",
   "execution_count": 30,
   "id": "33e53f28",
   "metadata": {
    "execution": {
     "iopub.execute_input": "2023-10-27T18:04:12.859287Z",
     "iopub.status.busy": "2023-10-27T18:04:12.858900Z",
     "iopub.status.idle": "2023-10-27T18:04:12.875169Z",
     "shell.execute_reply": "2023-10-27T18:04:12.873568Z"
    },
    "papermill": {
     "duration": 0.036403,
     "end_time": "2023-10-27T18:04:12.877914",
     "exception": false,
     "start_time": "2023-10-27T18:04:12.841511",
     "status": "completed"
    },
    "tags": []
   },
   "outputs": [
    {
     "data": {
      "text/html": [
       "<div>\n",
       "<style scoped>\n",
       "    .dataframe tbody tr th:only-of-type {\n",
       "        vertical-align: middle;\n",
       "    }\n",
       "\n",
       "    .dataframe tbody tr th {\n",
       "        vertical-align: top;\n",
       "    }\n",
       "\n",
       "    .dataframe thead th {\n",
       "        text-align: right;\n",
       "    }\n",
       "</style>\n",
       "<table border=\"1\" class=\"dataframe\">\n",
       "  <thead>\n",
       "    <tr style=\"text-align: right;\">\n",
       "      <th></th>\n",
       "      <th>region</th>\n",
       "      <th>hub_suburb</th>\n",
       "      <th>hub_city</th>\n",
       "    </tr>\n",
       "  </thead>\n",
       "  <tbody>\n",
       "    <tr>\n",
       "      <th>0</th>\n",
       "      <td>df-0</td>\n",
       "      <td>Sobradinho</td>\n",
       "      <td>Sobradinho</td>\n",
       "    </tr>\n",
       "    <tr>\n",
       "      <th>1</th>\n",
       "      <td>df-1</td>\n",
       "      <td>Asa Sul</td>\n",
       "      <td>Brasília</td>\n",
       "    </tr>\n",
       "    <tr>\n",
       "      <th>2</th>\n",
       "      <td>df-2</td>\n",
       "      <td>Taguatinga</td>\n",
       "      <td>Taguatinga</td>\n",
       "    </tr>\n",
       "  </tbody>\n",
       "</table>\n",
       "</div>"
      ],
      "text/plain": [
       "  region  hub_suburb    hub_city\n",
       "0   df-0  Sobradinho  Sobradinho\n",
       "1   df-1     Asa Sul    Brasília\n",
       "2   df-2  Taguatinga  Taguatinga"
      ]
     },
     "execution_count": 30,
     "metadata": {},
     "output_type": "execute_result"
    }
   ],
   "source": [
    "hub_df = pd.merge(left=hub_df, right=hub_geodata_df, how='inner', left_index=True, right_index=True)\n",
    "hub_df = hub_df[['region', 'hub_suburb', 'hub_city']]\n",
    "hub_df.head()"
   ]
  },
  {
   "cell_type": "code",
   "execution_count": 31,
   "id": "c0e35429",
   "metadata": {
    "execution": {
     "iopub.execute_input": "2023-10-27T18:04:12.908611Z",
     "iopub.status.busy": "2023-10-27T18:04:12.908203Z",
     "iopub.status.idle": "2023-10-27T18:04:13.124345Z",
     "shell.execute_reply": "2023-10-27T18:04:13.122753Z"
    },
    "papermill": {
     "duration": 0.234632,
     "end_time": "2023-10-27T18:04:13.126720",
     "exception": false,
     "start_time": "2023-10-27T18:04:12.892088",
     "status": "completed"
    },
    "tags": []
   },
   "outputs": [
    {
     "data": {
      "text/html": [
       "<div>\n",
       "<style scoped>\n",
       "    .dataframe tbody tr th:only-of-type {\n",
       "        vertical-align: middle;\n",
       "    }\n",
       "\n",
       "    .dataframe tbody tr th {\n",
       "        vertical-align: top;\n",
       "    }\n",
       "\n",
       "    .dataframe thead th {\n",
       "        text-align: right;\n",
       "    }\n",
       "</style>\n",
       "<table border=\"1\" class=\"dataframe\">\n",
       "  <thead>\n",
       "    <tr style=\"text-align: right;\">\n",
       "      <th></th>\n",
       "      <th>name</th>\n",
       "      <th>region</th>\n",
       "      <th>hub_lat</th>\n",
       "      <th>hub_lng</th>\n",
       "      <th>hub_suburb</th>\n",
       "      <th>hub_city</th>\n",
       "      <th>vehicle_capacity</th>\n",
       "      <th>delivery_id</th>\n",
       "      <th>delivery_size</th>\n",
       "      <th>delivery_lat</th>\n",
       "      <th>delivery_lng</th>\n",
       "    </tr>\n",
       "  </thead>\n",
       "  <tbody>\n",
       "    <tr>\n",
       "      <th>0</th>\n",
       "      <td>cvrp-2-df-33</td>\n",
       "      <td>df-2</td>\n",
       "      <td>-15.838145</td>\n",
       "      <td>-48.054989</td>\n",
       "      <td>Taguatinga</td>\n",
       "      <td>Taguatinga</td>\n",
       "      <td>180</td>\n",
       "      <td>313483a19d2f8d65cd5024c8d215cfbd</td>\n",
       "      <td>9</td>\n",
       "      <td>-15.848929</td>\n",
       "      <td>-48.116189</td>\n",
       "    </tr>\n",
       "    <tr>\n",
       "      <th>1</th>\n",
       "      <td>cvrp-2-df-33</td>\n",
       "      <td>df-2</td>\n",
       "      <td>-15.838145</td>\n",
       "      <td>-48.054989</td>\n",
       "      <td>Taguatinga</td>\n",
       "      <td>Taguatinga</td>\n",
       "      <td>180</td>\n",
       "      <td>320c94b17aa685c939b3f3244c3099de</td>\n",
       "      <td>2</td>\n",
       "      <td>-15.850772</td>\n",
       "      <td>-48.118195</td>\n",
       "    </tr>\n",
       "    <tr>\n",
       "      <th>2</th>\n",
       "      <td>cvrp-2-df-33</td>\n",
       "      <td>df-2</td>\n",
       "      <td>-15.838145</td>\n",
       "      <td>-48.054989</td>\n",
       "      <td>Taguatinga</td>\n",
       "      <td>Taguatinga</td>\n",
       "      <td>180</td>\n",
       "      <td>3663b42f4b8decb33059febaba46d5c8</td>\n",
       "      <td>1</td>\n",
       "      <td>-15.847871</td>\n",
       "      <td>-48.112483</td>\n",
       "    </tr>\n",
       "    <tr>\n",
       "      <th>3</th>\n",
       "      <td>cvrp-2-df-33</td>\n",
       "      <td>df-2</td>\n",
       "      <td>-15.838145</td>\n",
       "      <td>-48.054989</td>\n",
       "      <td>Taguatinga</td>\n",
       "      <td>Taguatinga</td>\n",
       "      <td>180</td>\n",
       "      <td>e11ab58363c38d6abc90d5fba87b7d7</td>\n",
       "      <td>2</td>\n",
       "      <td>-15.846471</td>\n",
       "      <td>-48.118023</td>\n",
       "    </tr>\n",
       "    <tr>\n",
       "      <th>4</th>\n",
       "      <td>cvrp-2-df-33</td>\n",
       "      <td>df-2</td>\n",
       "      <td>-15.838145</td>\n",
       "      <td>-48.054989</td>\n",
       "      <td>Taguatinga</td>\n",
       "      <td>Taguatinga</td>\n",
       "      <td>180</td>\n",
       "      <td>54cb45b7bbbd4e34e7150900f92d7f4b</td>\n",
       "      <td>7</td>\n",
       "      <td>-15.858055</td>\n",
       "      <td>-48.114898</td>\n",
       "    </tr>\n",
       "  </tbody>\n",
       "</table>\n",
       "</div>"
      ],
      "text/plain": [
       "           name region    hub_lat    hub_lng  hub_suburb    hub_city  \\\n",
       "0  cvrp-2-df-33   df-2 -15.838145 -48.054989  Taguatinga  Taguatinga   \n",
       "1  cvrp-2-df-33   df-2 -15.838145 -48.054989  Taguatinga  Taguatinga   \n",
       "2  cvrp-2-df-33   df-2 -15.838145 -48.054989  Taguatinga  Taguatinga   \n",
       "3  cvrp-2-df-33   df-2 -15.838145 -48.054989  Taguatinga  Taguatinga   \n",
       "4  cvrp-2-df-33   df-2 -15.838145 -48.054989  Taguatinga  Taguatinga   \n",
       "\n",
       "   vehicle_capacity                       delivery_id  delivery_size  \\\n",
       "0               180  313483a19d2f8d65cd5024c8d215cfbd              9   \n",
       "1               180  320c94b17aa685c939b3f3244c3099de              2   \n",
       "2               180  3663b42f4b8decb33059febaba46d5c8              1   \n",
       "3               180   e11ab58363c38d6abc90d5fba87b7d7              2   \n",
       "4               180  54cb45b7bbbd4e34e7150900f92d7f4b              7   \n",
       "\n",
       "   delivery_lat  delivery_lng  \n",
       "0    -15.848929    -48.116189  \n",
       "1    -15.850772    -48.118195  \n",
       "2    -15.847871    -48.112483  \n",
       "3    -15.846471    -48.118023  \n",
       "4    -15.858055    -48.114898  "
      ]
     },
     "execution_count": 31,
     "metadata": {},
     "output_type": "execute_result"
    }
   ],
   "source": [
    "deliveries_df = pd.merge(left=deliveries_df, right=hub_df, how='inner', on='region')\n",
    "deliveries_df = deliveries_df[['name', 'region', 'hub_lat', 'hub_lng', 'hub_suburb', 'hub_city', 'vehicle_capacity', 'delivery_id', 'delivery_size', 'delivery_lat', 'delivery_lng']]\n",
    "deliveries_df.head()"
   ]
  },
  {
   "cell_type": "markdown",
   "id": "1233fcda",
   "metadata": {
    "papermill": {
     "duration": 0.015252,
     "end_time": "2023-10-27T18:04:13.156606",
     "exception": false,
     "start_time": "2023-10-27T18:04:13.141354",
     "status": "completed"
    },
    "tags": []
   },
   "source": [
    "## 2.1 - Reverse Geocoding Deliveries"
   ]
  },
  {
   "cell_type": "markdown",
   "id": "aee58cab",
   "metadata": {
    "papermill": {
     "duration": 0.013734,
     "end_time": "2023-10-27T18:04:13.184861",
     "exception": false,
     "start_time": "2023-10-27T18:04:13.171127",
     "status": "completed"
    },
    "tags": []
   },
   "source": [
    "As the `deliveries_clean.csv` file contains 636.149 rows, it would take close to 7 days to transform all the coordinates into addresses using the Nominatim package with one second delays. "
   ]
  },
  {
   "cell_type": "code",
   "execution_count": 32,
   "id": "9f218013",
   "metadata": {
    "execution": {
     "iopub.execute_input": "2023-10-27T18:04:13.215290Z",
     "iopub.status.busy": "2023-10-27T18:04:13.214893Z",
     "iopub.status.idle": "2023-10-27T18:04:15.798117Z",
     "shell.execute_reply": "2023-10-27T18:04:15.796818Z"
    },
    "papermill": {
     "duration": 2.601539,
     "end_time": "2023-10-27T18:04:15.800602",
     "exception": false,
     "start_time": "2023-10-27T18:04:13.199063",
     "status": "completed"
    },
    "tags": []
   },
   "outputs": [],
   "source": [
    "!wget -q \"https://raw.githubusercontent.com/andre-marcos-perez/ebac-course-utils/main/dataset/deliveries-geodata.csv\" -O deliveries-geodata.csv"
   ]
  }
 ],
 "metadata": {
  "kernelspec": {
   "display_name": "Python 3",
   "language": "python",
   "name": "python3"
  },
  "language_info": {
   "codemirror_mode": {
    "name": "ipython",
    "version": 3
   },
   "file_extension": ".py",
   "mimetype": "text/x-python",
   "name": "python",
   "nbconvert_exporter": "python",
   "pygments_lexer": "ipython3",
   "version": "3.10.12"
  },
  "papermill": {
   "default_parameters": {},
   "duration": 27.358123,
   "end_time": "2023-10-27T18:04:16.939567",
   "environment_variables": {},
   "exception": null,
   "input_path": "__notebook__.ipynb",
   "output_path": "__notebook__.ipynb",
   "parameters": {},
   "start_time": "2023-10-27T18:03:49.581444",
   "version": "2.4.0"
  }
 },
 "nbformat": 4,
 "nbformat_minor": 5
}
